{
 "cells": [
  {
   "cell_type": "code",
   "execution_count": 1,
   "metadata": {
    "collapsed": true
   },
   "outputs": [],
   "source": [
    "import h5py\n",
    "import pandas as pd\n",
    "import numpy as np\n",
    "import matplotlib.pyplot as plt\n",
    "%matplotlib inline\n",
    "import timeit"
   ]
  },
  {
   "cell_type": "markdown",
   "metadata": {},
   "source": [
    "### Ingest data"
   ]
  },
  {
   "cell_type": "code",
   "execution_count": 2,
   "metadata": {
    "collapsed": true
   },
   "outputs": [],
   "source": [
    "df = pd.read_hdf('accounting-2018-10-deid.h5', 'table')"
   ]
  },
  {
   "cell_type": "markdown",
   "metadata": {},
   "source": [
    "### EDA"
   ]
  },
  {
   "cell_type": "code",
   "execution_count": 3,
   "metadata": {},
   "outputs": [
    {
     "name": "stdout",
     "output_type": "stream",
     "text": [
      "<class 'pandas.core.frame.DataFrame'>\n",
      "Int64Index: 4468061 entries, 0 to 4580086\n",
      "Data columns (total 23 columns):\n",
      "group              object\n",
      "owner              object\n",
      "job_number         float64\n",
      "submission_time    datetime64[ns]\n",
      "start_time         datetime64[ns]\n",
      "end_time           datetime64[ns]\n",
      "failed             float64\n",
      "exit_status        float64\n",
      "granted_pe         object\n",
      "slots              float64\n",
      "task_number        float64\n",
      "maxvmem            float64\n",
      "h_data             float64\n",
      "h_rt               float64\n",
      "highp              float64\n",
      "exclusive          float64\n",
      "h_vmem             float64\n",
      "gpu                float64\n",
      "pe                 object\n",
      "slot               float64\n",
      "wait_time          timedelta64[ns]\n",
      "wtime              timedelta64[ns]\n",
      "campus             float64\n",
      "dtypes: datetime64[ns](3), float64(14), object(4), timedelta64[ns](2)\n",
      "memory usage: 818.1+ MB\n"
     ]
    }
   ],
   "source": [
    "df[df == -200].info()"
   ]
  },
  {
   "cell_type": "code",
   "execution_count": 4,
   "metadata": {},
   "outputs": [
    {
     "data": {
      "text/plain": [
       "(4468061, 23)"
      ]
     },
     "execution_count": 4,
     "metadata": {},
     "output_type": "execute_result"
    }
   ],
   "source": [
    "df.shape"
   ]
  },
  {
   "cell_type": "code",
   "execution_count": 5,
   "metadata": {},
   "outputs": [
    {
     "data": {
      "text/plain": [
       "Index(['group', 'owner', 'job_number', 'submission_time', 'start_time',\n",
       "       'end_time', 'failed', 'exit_status', 'granted_pe', 'slots',\n",
       "       'task_number', 'maxvmem', 'h_data', 'h_rt', 'highp', 'exclusive',\n",
       "       'h_vmem', 'gpu', 'pe', 'slot', 'wait_time', 'wtime', 'campus'],\n",
       "      dtype='object')"
      ]
     },
     "execution_count": 5,
     "metadata": {},
     "output_type": "execute_result"
    }
   ],
   "source": [
    "df.columns"
   ]
  },
  {
   "cell_type": "code",
   "execution_count": 6,
   "metadata": {},
   "outputs": [
    {
     "data": {
      "text/plain": [
       "(23,)"
      ]
     },
     "execution_count": 6,
     "metadata": {},
     "output_type": "execute_result"
    }
   ],
   "source": [
    "df.columns.shape"
   ]
  },
  {
   "cell_type": "code",
   "execution_count": 7,
   "metadata": {},
   "outputs": [
    {
     "name": "stdout",
     "output_type": "stream",
     "text": [
      "857867712 bytes\n",
      "837761 KB\n",
      "818 MB\n"
     ]
    }
   ],
   "source": [
    "# dataframe size in memory (differs somewhat from csv/h5 file size)\n",
    "print(df.memory_usage().sum(), \" bytes\\n\", \n",
    "      int(round(df.memory_usage().sum() / 1024)), \" KB\\n\",\n",
    "      int(round(df.memory_usage().sum() / 1024**2)), \" MB\", sep = '')"
   ]
  },
  {
   "cell_type": "code",
   "execution_count": 8,
   "metadata": {},
   "outputs": [
    {
     "data": {
      "text/html": [
       "<div>\n",
       "<style scoped>\n",
       "    .dataframe tbody tr th:only-of-type {\n",
       "        vertical-align: middle;\n",
       "    }\n",
       "\n",
       "    .dataframe tbody tr th {\n",
       "        vertical-align: top;\n",
       "    }\n",
       "\n",
       "    .dataframe thead th {\n",
       "        text-align: right;\n",
       "    }\n",
       "</style>\n",
       "<table border=\"1\" class=\"dataframe\">\n",
       "  <thead>\n",
       "    <tr style=\"text-align: right;\">\n",
       "      <th></th>\n",
       "      <th>group</th>\n",
       "      <th>owner</th>\n",
       "      <th>job_number</th>\n",
       "      <th>submission_time</th>\n",
       "      <th>start_time</th>\n",
       "      <th>end_time</th>\n",
       "      <th>failed</th>\n",
       "      <th>exit_status</th>\n",
       "      <th>granted_pe</th>\n",
       "      <th>slots</th>\n",
       "      <th>...</th>\n",
       "      <th>h_rt</th>\n",
       "      <th>highp</th>\n",
       "      <th>exclusive</th>\n",
       "      <th>h_vmem</th>\n",
       "      <th>gpu</th>\n",
       "      <th>pe</th>\n",
       "      <th>slot</th>\n",
       "      <th>wait_time</th>\n",
       "      <th>wtime</th>\n",
       "      <th>campus</th>\n",
       "    </tr>\n",
       "  </thead>\n",
       "  <tbody>\n",
       "    <tr>\n",
       "      <th>0</th>\n",
       "      <td>g1</td>\n",
       "      <td>u1</td>\n",
       "      <td>3912841</td>\n",
       "      <td>2018-09-29 16:03:49</td>\n",
       "      <td>2018-10-01 07:53:27</td>\n",
       "      <td>2018-10-01 08:00:18</td>\n",
       "      <td>0</td>\n",
       "      <td>0</td>\n",
       "      <td>single</td>\n",
       "      <td>1</td>\n",
       "      <td>...</td>\n",
       "      <td>24.0</td>\n",
       "      <td>0</td>\n",
       "      <td>0</td>\n",
       "      <td>4.0</td>\n",
       "      <td>0</td>\n",
       "      <td>single</td>\n",
       "      <td>1</td>\n",
       "      <td>1 days 15:49:38</td>\n",
       "      <td>00:06:51</td>\n",
       "      <td>1</td>\n",
       "    </tr>\n",
       "    <tr>\n",
       "      <th>1</th>\n",
       "      <td>g2</td>\n",
       "      <td>u2</td>\n",
       "      <td>3902779</td>\n",
       "      <td>2018-09-27 21:38:06</td>\n",
       "      <td>2018-10-01 07:24:38</td>\n",
       "      <td>2018-10-01 08:00:42</td>\n",
       "      <td>0</td>\n",
       "      <td>0</td>\n",
       "      <td>single</td>\n",
       "      <td>1</td>\n",
       "      <td>...</td>\n",
       "      <td>6.0</td>\n",
       "      <td>0</td>\n",
       "      <td>0</td>\n",
       "      <td>4.0</td>\n",
       "      <td>0</td>\n",
       "      <td>single</td>\n",
       "      <td>1</td>\n",
       "      <td>3 days 09:46:32</td>\n",
       "      <td>00:36:04</td>\n",
       "      <td>0</td>\n",
       "    </tr>\n",
       "    <tr>\n",
       "      <th>2</th>\n",
       "      <td>g1</td>\n",
       "      <td>u1</td>\n",
       "      <td>3912841</td>\n",
       "      <td>2018-09-29 16:03:49</td>\n",
       "      <td>2018-10-01 07:58:42</td>\n",
       "      <td>2018-10-01 08:00:56</td>\n",
       "      <td>0</td>\n",
       "      <td>0</td>\n",
       "      <td>single</td>\n",
       "      <td>1</td>\n",
       "      <td>...</td>\n",
       "      <td>24.0</td>\n",
       "      <td>0</td>\n",
       "      <td>0</td>\n",
       "      <td>4.0</td>\n",
       "      <td>0</td>\n",
       "      <td>single</td>\n",
       "      <td>1</td>\n",
       "      <td>1 days 15:54:53</td>\n",
       "      <td>00:02:14</td>\n",
       "      <td>1</td>\n",
       "    </tr>\n",
       "  </tbody>\n",
       "</table>\n",
       "<p>3 rows × 23 columns</p>\n",
       "</div>"
      ],
      "text/plain": [
       "  group owner  job_number     submission_time          start_time  \\\n",
       "0    g1    u1     3912841 2018-09-29 16:03:49 2018-10-01 07:53:27   \n",
       "1    g2    u2     3902779 2018-09-27 21:38:06 2018-10-01 07:24:38   \n",
       "2    g1    u1     3912841 2018-09-29 16:03:49 2018-10-01 07:58:42   \n",
       "\n",
       "             end_time  failed  exit_status granted_pe  slots   ...    h_rt  \\\n",
       "0 2018-10-01 08:00:18       0            0     single      1   ...    24.0   \n",
       "1 2018-10-01 08:00:42       0            0     single      1   ...     6.0   \n",
       "2 2018-10-01 08:00:56       0            0     single      1   ...    24.0   \n",
       "\n",
       "   highp  exclusive  h_vmem  gpu      pe  slot       wait_time    wtime  \\\n",
       "0      0          0     4.0    0  single     1 1 days 15:49:38 00:06:51   \n",
       "1      0          0     4.0    0  single     1 3 days 09:46:32 00:36:04   \n",
       "2      0          0     4.0    0  single     1 1 days 15:54:53 00:02:14   \n",
       "\n",
       "   campus  \n",
       "0       1  \n",
       "1       0  \n",
       "2       1  \n",
       "\n",
       "[3 rows x 23 columns]"
      ]
     },
     "execution_count": 8,
     "metadata": {},
     "output_type": "execute_result"
    }
   ],
   "source": [
    "df.head(3)"
   ]
  },
  {
   "cell_type": "markdown",
   "metadata": {},
   "source": [
    "^^^ Output is truncated\n",
    "\n",
    "**Make it show ALL columns**"
   ]
  },
  {
   "cell_type": "code",
   "execution_count": 9,
   "metadata": {},
   "outputs": [
    {
     "name": "stdout",
     "output_type": "stream",
     "text": [
      "..   ...   ...  ...        ...    ...\n",
      "   group owner  ...      wtime campus\n",
      "0     g1    u1  ...   00:06:51      1\n",
      "1     g2    u2  ...   00:36:04      0\n",
      "1     g2    u2  ...   00:36:04      0\n",
      "2     g1    u1  ...   00:02:14      1\n",
      "\n",
      "[3 rows x 23 columns]\n"
     ]
    }
   ],
   "source": [
    "# This is supposed to temporarily set options and then unset when exit with statement\n",
    "\n",
    "with pd.option_context('display.max_rows', -1, 'display.max_columns', 5):\n",
    "    print(df.head(3))"
   ]
  },
  {
   "cell_type": "code",
   "execution_count": 10,
   "metadata": {
    "collapsed": true
   },
   "outputs": [],
   "source": [
    "# # but it throws error when max_columns > 7. WHY ???\n",
    "\n",
    "# # ValueError: max() arg is an empty sequence\n",
    "\n",
    "# with pd.option_context('display.max_rows', -1, 'display.max_columns', 23):\n",
    "#     print(df.head(3))"
   ]
  },
  {
   "cell_type": "code",
   "execution_count": 11,
   "metadata": {
    "collapsed": true
   },
   "outputs": [],
   "source": [
    "# Since the above did not work, use this:\n",
    "# Set to print/output all columns. \n",
    "# Setting last for life of kernel or until set again\n",
    "\n",
    "pd.set_option('display.max_columns', None)  \n",
    "pd.set_option('display.expand_frame_repr', True)\n",
    "pd.set_option('max_colwidth', -1)"
   ]
  },
  {
   "cell_type": "code",
   "execution_count": 12,
   "metadata": {},
   "outputs": [
    {
     "name": "stdout",
     "output_type": "stream",
     "text": [
      "  group owner  job_number     submission_time          start_time  \\\n",
      "0  g1    u1    3912841    2018-09-29 16:03:49 2018-10-01 07:53:27   \n",
      "1  g2    u2    3902779    2018-09-27 21:38:06 2018-10-01 07:24:38   \n",
      "2  g1    u1    3912841    2018-09-29 16:03:49 2018-10-01 07:58:42   \n",
      "\n",
      "             end_time  failed  exit_status granted_pe  slots  task_number  \\\n",
      "0 2018-10-01 08:00:18  0       0            single     1      1338          \n",
      "1 2018-10-01 08:00:42  0       0            single     1      55696         \n",
      "2 2018-10-01 08:00:56  0       0            single     1      1368          \n",
      "\n",
      "        maxvmem  h_data  h_rt  highp  exclusive  h_vmem  gpu      pe  slot  \\\n",
      "0  4.040196e+09  4.0     24.0  0      0          4.0     0    single  1      \n",
      "1  6.098657e+08  4.0     6.0   0      0          4.0     0    single  1      \n",
      "2  3.326935e+09  4.0     24.0  0      0          4.0     0    single  1      \n",
      "\n",
      "        wait_time    wtime  campus  \n",
      "0 1 days 15:49:38 00:06:51  1       \n",
      "1 3 days 09:46:32 00:36:04  0       \n",
      "2 1 days 15:54:53 00:02:14  1       \n"
     ]
    }
   ],
   "source": [
    "# PRINT does so by wrapping\n",
    "\n",
    "print(df.head(3))"
   ]
  },
  {
   "cell_type": "code",
   "execution_count": 13,
   "metadata": {},
   "outputs": [
    {
     "data": {
      "text/html": [
       "<div>\n",
       "<style scoped>\n",
       "    .dataframe tbody tr th:only-of-type {\n",
       "        vertical-align: middle;\n",
       "    }\n",
       "\n",
       "    .dataframe tbody tr th {\n",
       "        vertical-align: top;\n",
       "    }\n",
       "\n",
       "    .dataframe thead th {\n",
       "        text-align: right;\n",
       "    }\n",
       "</style>\n",
       "<table border=\"1\" class=\"dataframe\">\n",
       "  <thead>\n",
       "    <tr style=\"text-align: right;\">\n",
       "      <th></th>\n",
       "      <th>group</th>\n",
       "      <th>owner</th>\n",
       "      <th>job_number</th>\n",
       "      <th>submission_time</th>\n",
       "      <th>start_time</th>\n",
       "      <th>end_time</th>\n",
       "      <th>failed</th>\n",
       "      <th>exit_status</th>\n",
       "      <th>granted_pe</th>\n",
       "      <th>slots</th>\n",
       "      <th>task_number</th>\n",
       "      <th>maxvmem</th>\n",
       "      <th>h_data</th>\n",
       "      <th>h_rt</th>\n",
       "      <th>highp</th>\n",
       "      <th>exclusive</th>\n",
       "      <th>h_vmem</th>\n",
       "      <th>gpu</th>\n",
       "      <th>pe</th>\n",
       "      <th>slot</th>\n",
       "      <th>wait_time</th>\n",
       "      <th>wtime</th>\n",
       "      <th>campus</th>\n",
       "    </tr>\n",
       "  </thead>\n",
       "  <tbody>\n",
       "    <tr>\n",
       "      <th>0</th>\n",
       "      <td>g1</td>\n",
       "      <td>u1</td>\n",
       "      <td>3912841</td>\n",
       "      <td>2018-09-29 16:03:49</td>\n",
       "      <td>2018-10-01 07:53:27</td>\n",
       "      <td>2018-10-01 08:00:18</td>\n",
       "      <td>0</td>\n",
       "      <td>0</td>\n",
       "      <td>single</td>\n",
       "      <td>1</td>\n",
       "      <td>1338</td>\n",
       "      <td>4.040196e+09</td>\n",
       "      <td>4.0</td>\n",
       "      <td>24.0</td>\n",
       "      <td>0</td>\n",
       "      <td>0</td>\n",
       "      <td>4.0</td>\n",
       "      <td>0</td>\n",
       "      <td>single</td>\n",
       "      <td>1</td>\n",
       "      <td>1 days 15:49:38</td>\n",
       "      <td>00:06:51</td>\n",
       "      <td>1</td>\n",
       "    </tr>\n",
       "    <tr>\n",
       "      <th>1</th>\n",
       "      <td>g2</td>\n",
       "      <td>u2</td>\n",
       "      <td>3902779</td>\n",
       "      <td>2018-09-27 21:38:06</td>\n",
       "      <td>2018-10-01 07:24:38</td>\n",
       "      <td>2018-10-01 08:00:42</td>\n",
       "      <td>0</td>\n",
       "      <td>0</td>\n",
       "      <td>single</td>\n",
       "      <td>1</td>\n",
       "      <td>55696</td>\n",
       "      <td>6.098657e+08</td>\n",
       "      <td>4.0</td>\n",
       "      <td>6.0</td>\n",
       "      <td>0</td>\n",
       "      <td>0</td>\n",
       "      <td>4.0</td>\n",
       "      <td>0</td>\n",
       "      <td>single</td>\n",
       "      <td>1</td>\n",
       "      <td>3 days 09:46:32</td>\n",
       "      <td>00:36:04</td>\n",
       "      <td>0</td>\n",
       "    </tr>\n",
       "    <tr>\n",
       "      <th>2</th>\n",
       "      <td>g1</td>\n",
       "      <td>u1</td>\n",
       "      <td>3912841</td>\n",
       "      <td>2018-09-29 16:03:49</td>\n",
       "      <td>2018-10-01 07:58:42</td>\n",
       "      <td>2018-10-01 08:00:56</td>\n",
       "      <td>0</td>\n",
       "      <td>0</td>\n",
       "      <td>single</td>\n",
       "      <td>1</td>\n",
       "      <td>1368</td>\n",
       "      <td>3.326935e+09</td>\n",
       "      <td>4.0</td>\n",
       "      <td>24.0</td>\n",
       "      <td>0</td>\n",
       "      <td>0</td>\n",
       "      <td>4.0</td>\n",
       "      <td>0</td>\n",
       "      <td>single</td>\n",
       "      <td>1</td>\n",
       "      <td>1 days 15:54:53</td>\n",
       "      <td>00:02:14</td>\n",
       "      <td>1</td>\n",
       "    </tr>\n",
       "  </tbody>\n",
       "</table>\n",
       "</div>"
      ],
      "text/plain": [
       "  group owner  job_number     submission_time          start_time  \\\n",
       "0  g1    u1    3912841    2018-09-29 16:03:49 2018-10-01 07:53:27   \n",
       "1  g2    u2    3902779    2018-09-27 21:38:06 2018-10-01 07:24:38   \n",
       "2  g1    u1    3912841    2018-09-29 16:03:49 2018-10-01 07:58:42   \n",
       "\n",
       "             end_time  failed  exit_status granted_pe  slots  task_number  \\\n",
       "0 2018-10-01 08:00:18  0       0            single     1      1338          \n",
       "1 2018-10-01 08:00:42  0       0            single     1      55696         \n",
       "2 2018-10-01 08:00:56  0       0            single     1      1368          \n",
       "\n",
       "        maxvmem  h_data  h_rt  highp  exclusive  h_vmem  gpu      pe  slot  \\\n",
       "0  4.040196e+09  4.0     24.0  0      0          4.0     0    single  1      \n",
       "1  6.098657e+08  4.0     6.0   0      0          4.0     0    single  1      \n",
       "2  3.326935e+09  4.0     24.0  0      0          4.0     0    single  1      \n",
       "\n",
       "        wait_time    wtime  campus  \n",
       "0 1 days 15:49:38 00:06:51  1       \n",
       "1 3 days 09:46:32 00:36:04  0       \n",
       "2 1 days 15:54:53 00:02:14  1       "
      ]
     },
     "execution_count": 13,
     "metadata": {},
     "output_type": "execute_result"
    }
   ],
   "source": [
    "# OUTPUT prints HTML scrollable view\n",
    "\n",
    "df.head(3)"
   ]
  },
  {
   "cell_type": "code",
   "execution_count": 14,
   "metadata": {},
   "outputs": [
    {
     "name": "stdout",
     "output_type": "stream",
     "text": [
      "FEATURE SET         # UNIQ VALUES IN 4468061 ROWS \n",
      "groups:             203 \n",
      "users:              699 \n",
      "job_numbers:        184688 \n",
      "task_numbers:       156538 \n",
      "start_times:        469299 \n",
      "end_times:          1347025 \n",
      "faileds:            7 \n",
      "exit_statuses:      28 \n",
      "granted_pes:        17 \n",
      "slots:              43\n"
     ]
    }
   ],
   "source": [
    "groups =        df['group'].unique()\n",
    "users =         df['owner'].unique()\n",
    "job_numbers =   df['job_number'].unique()\n",
    "task_numbers =  df['task_number'].unique()\n",
    "start_times =   df['start_time'].unique()\n",
    "end_times =     df['end_time'].unique()\n",
    "faileds =       df['failed'].unique()\n",
    "exit_statuses = df['exit_status'].unique()\n",
    "granted_pes =   df['granted_pe'].unique()\n",
    "slots =         df['slots'].unique()\n",
    "        \n",
    "print(\"FEATURE SET         # UNIQ VALUES IN\", df.shape[0], \"ROWS\", \n",
    "      \"\\ngroups:            \", len(groups), \n",
    "      \"\\nusers:             \", len(users),\n",
    "      \"\\njob_numbers:       \", len(job_numbers),\n",
    "      \"\\ntask_numbers:      \", len(task_numbers),\n",
    "      \"\\nstart_times:       \", len(start_times),\n",
    "      \"\\nend_times:         \", len(end_times),\n",
    "      \"\\nfaileds:           \", len(faileds),\n",
    "      \"\\nexit_statuses:     \", len(exit_statuses),\n",
    "      \"\\ngranted_pes:       \", len(granted_pes),\n",
    "      \"\\nslots:             \", len(slots)\n",
    "     )"
   ]
  },
  {
   "cell_type": "markdown",
   "metadata": {},
   "source": [
    "**Delete columns not needed for assignment**"
   ]
  },
  {
   "cell_type": "code",
   "execution_count": 15,
   "metadata": {
    "collapsed": true
   },
   "outputs": [],
   "source": [
    "df = df[['group', 'owner', 'job_number', 'task_number', 'slot', 'slots', 'h_rt']]"
   ]
  },
  {
   "cell_type": "code",
   "execution_count": 16,
   "metadata": {},
   "outputs": [
    {
     "name": "stdout",
     "output_type": "stream",
     "text": [
      "286 MB\n"
     ]
    },
    {
     "data": {
      "text/html": [
       "<div>\n",
       "<style scoped>\n",
       "    .dataframe tbody tr th:only-of-type {\n",
       "        vertical-align: middle;\n",
       "    }\n",
       "\n",
       "    .dataframe tbody tr th {\n",
       "        vertical-align: top;\n",
       "    }\n",
       "\n",
       "    .dataframe thead th {\n",
       "        text-align: right;\n",
       "    }\n",
       "</style>\n",
       "<table border=\"1\" class=\"dataframe\">\n",
       "  <thead>\n",
       "    <tr style=\"text-align: right;\">\n",
       "      <th></th>\n",
       "      <th>group</th>\n",
       "      <th>owner</th>\n",
       "      <th>job_number</th>\n",
       "      <th>task_number</th>\n",
       "      <th>slot</th>\n",
       "      <th>slots</th>\n",
       "      <th>h_rt</th>\n",
       "    </tr>\n",
       "  </thead>\n",
       "  <tbody>\n",
       "    <tr>\n",
       "      <th>0</th>\n",
       "      <td>g1</td>\n",
       "      <td>u1</td>\n",
       "      <td>3912841</td>\n",
       "      <td>1338</td>\n",
       "      <td>1</td>\n",
       "      <td>1</td>\n",
       "      <td>24.0</td>\n",
       "    </tr>\n",
       "    <tr>\n",
       "      <th>1</th>\n",
       "      <td>g2</td>\n",
       "      <td>u2</td>\n",
       "      <td>3902779</td>\n",
       "      <td>55696</td>\n",
       "      <td>1</td>\n",
       "      <td>1</td>\n",
       "      <td>6.0</td>\n",
       "    </tr>\n",
       "    <tr>\n",
       "      <th>2</th>\n",
       "      <td>g1</td>\n",
       "      <td>u1</td>\n",
       "      <td>3912841</td>\n",
       "      <td>1368</td>\n",
       "      <td>1</td>\n",
       "      <td>1</td>\n",
       "      <td>24.0</td>\n",
       "    </tr>\n",
       "  </tbody>\n",
       "</table>\n",
       "</div>"
      ],
      "text/plain": [
       "  group owner  job_number  task_number  slot  slots  h_rt\n",
       "0  g1    u1    3912841     1338         1     1      24.0\n",
       "1  g2    u2    3902779     55696        1     1      6.0 \n",
       "2  g1    u1    3912841     1368         1     1      24.0"
      ]
     },
     "execution_count": 16,
     "metadata": {},
     "output_type": "execute_result"
    }
   ],
   "source": [
    "# smaller dataframe size in memory \n",
    "print(int(round(df.memory_usage().sum() / 1000000)), \" MB\", sep = '')  # 214 MB\n",
    "df.head(3)"
   ]
  },
  {
   "cell_type": "code",
   "execution_count": 17,
   "metadata": {},
   "outputs": [
    {
     "name": "stdout",
     "output_type": "stream",
     "text": [
      "rows:               4468061 \n",
      "columns:            7 \n",
      "groups:             203 \n",
      "users:              699 \n",
      "job_numbers:        184688 \n",
      "task_numbers:       156538 \n",
      "slot:               43 \n",
      "slots:              43\n"
     ]
    }
   ],
   "source": [
    "# Useful values\n",
    "\n",
    "groups =       df['group'].unique()\n",
    "users =        df['owner'].unique()\n",
    "job_numbers =  df['job_number'].unique()\n",
    "task_numbers = df['task_number'].unique()\n",
    "slot =         df['slot'].unique()\n",
    "slots =        df['slots'].unique()\n",
    "\n",
    "print(\"rows:              \", df.shape[0], \n",
    "      \"\\ncolumns:           \", df.shape[1],\n",
    "      \"\\ngroups:            \", len(groups), \n",
    "      \"\\nusers:             \", len(users),\n",
    "      \"\\njob_numbers:       \", len(job_numbers),\n",
    "      \"\\ntask_numbers:      \", len(task_numbers),\n",
    "      \"\\nslot:              \", len(slot),\n",
    "      \"\\nslots:             \", len(slots)\n",
    "     )"
   ]
  },
  {
   "cell_type": "markdown",
   "metadata": {},
   "source": [
    "**Findings**: \n",
    "- `job_number` is NOT unique on each row. Only 184,688 job numbers for 4,468,061 rows. This means that multiple rows can constitute a single job. See rows 0 and 3.\n",
    "- There are fewer task numbers than job numbers. This means that some task numbers are repeated for some job numbers.\n",
    "- Are `slot` and `slots` redundant? If so we can delete one of them."
   ]
  },
  {
   "cell_type": "code",
   "execution_count": 18,
   "metadata": {},
   "outputs": [
    {
     "data": {
      "text/plain": [
       "False"
      ]
     },
     "execution_count": 18,
     "metadata": {},
     "output_type": "execute_result"
    }
   ],
   "source": [
    "all(df['slot'] == df['slots'])  # False"
   ]
  },
  {
   "cell_type": "markdown",
   "metadata": {},
   "source": [
    "**Findings**: No, they are not ALL the same, though most of them seem to be.  \n",
    "- Find differences"
   ]
  },
  {
   "cell_type": "code",
   "execution_count": 19,
   "metadata": {},
   "outputs": [
    {
     "name": "stdout",
     "output_type": "stream",
     "text": [
      "index 3839451 : slot = 1 ( <class 'numpy.int64'> ): slots = 1 ( <class 'numpy.int64'> )\n",
      "\n"
     ]
    }
   ],
   "source": [
    "for i,j in enumerate(df['slot'] == df['slots']):\n",
    "    if j == False:  # if slot and slots are DIFFERENT\n",
    "        print('index', i, ':', \n",
    "              'slot =',  df['slot'][i],  '(', type(df['slot'][i]),  '):', \n",
    "              'slots =', df['slots'][i], '(', type(df['slots'][i]), ')')\n",
    "        print()    # index 3839451 : slot = 1 : slots = 1"
   ]
  },
  {
   "cell_type": "markdown",
   "metadata": {},
   "source": [
    "**Findings**: One index returns False, yet each is a numpy.int64 value of 1. What is different about these?\n",
    "\n",
    "**Next**: Find difference(s)."
   ]
  },
  {
   "cell_type": "code",
   "execution_count": 20,
   "metadata": {},
   "outputs": [
    {
     "name": "stdout",
     "output_type": "stream",
     "text": [
      "1 <class 'numpy.int64'> 1 <class 'numpy.int64'>\n"
     ]
    },
    {
     "data": {
      "text/plain": [
       "True"
      ]
     },
     "execution_count": 20,
     "metadata": {},
     "output_type": "execute_result"
    }
   ],
   "source": [
    "print(df['slot'][3839451], type(df['slot'][3839451]),    # 1 <class 'numpy.int64'>\n",
    "      df['slots'][3839451], type(df['slots'][3839451]))  # 1 <class 'numpy.int64'>\n",
    "\n",
    "df['slot'][3839451] == df['slots'][3839451]  # True"
   ]
  },
  {
   "cell_type": "markdown",
   "metadata": {},
   "source": [
    "**Findings:**: Huh?\n",
    "\n",
    "**Next**: Delete this row and continue analysis."
   ]
  },
  {
   "cell_type": "code",
   "execution_count": 21,
   "metadata": {},
   "outputs": [
    {
     "data": {
      "text/plain": [
       "True"
      ]
     },
     "execution_count": 21,
     "metadata": {},
     "output_type": "execute_result"
    }
   ],
   "source": [
    "# Before deleting a row by index, first make sure the index values are unique \n",
    "# (pandas does not require them to be):\n",
    "all(df.index.unique() == df.index)"
   ]
  },
  {
   "cell_type": "code",
   "execution_count": 22,
   "metadata": {
    "collapsed": true
   },
   "outputs": [],
   "source": [
    "# ^^^True. The list of uniq indexes is the same as the list of indexes.\n",
    "#Therefore there are no duplicate indexes. Since all indexes are unique \n",
    "# deleting this index will delete only one row.\n",
    "df.drop(df.index[[3839451]], inplace=True)"
   ]
  },
  {
   "cell_type": "code",
   "execution_count": 23,
   "metadata": {},
   "outputs": [
    {
     "data": {
      "text/plain": [
       "4468060"
      ]
     },
     "execution_count": 23,
     "metadata": {},
     "output_type": "execute_result"
    }
   ],
   "source": [
    "df.shape[0]"
   ]
  },
  {
   "cell_type": "markdown",
   "metadata": {},
   "source": [
    "### Analysis"
   ]
  },
  {
   "cell_type": "markdown",
   "metadata": {},
   "source": [
    "### Assignment 1-1\n",
    "\n",
    "(1) How many jobs are run by each USER? (e.g. user1: 34, user2: 21, …)"
   ]
  },
  {
   "cell_type": "code",
   "execution_count": 25,
   "metadata": {
    "collapsed": true
   },
   "outputs": [],
   "source": [
    "# take a subset of owner/user col and job_num col, which will include many duplicates\n",
    "# drop all but one of each set\n",
    "\n",
    "df_jobs_by_user = df.drop_duplicates(subset=['owner', 'job_number'], keep='first')\n",
    "\n",
    "# print(df_jobs_by_user)  #         group owner  job_number  task_number  slot  slots  h_rt\n",
    "                         # 0        g1    u1     3912841     1338         1     1      24.000000 \n",
    "                         # 1        g2    u2     3902779     55696        1     1      6.000000  \n",
    "                         # 3        g3    u3     3907911     1241         1     1      1.500000\n",
    "                         # 19       g4    u4     3913291     0            24    24     24.000000 \n",
    "                         # 21       g5    u5     3914733     0            1     1      24.000000 \n",
    "                         # 22       g5    u5     3914732     0            1     1      24.000000 \n",
    "                         # 23       g5    u5     3914735     0            1     1      24.000000 \n",
    "                         # [184687 rows x 7 columns]"
   ]
  },
  {
   "cell_type": "code",
   "execution_count": 26,
   "metadata": {},
   "outputs": [
    {
     "name": "stdout",
     "output_type": "stream",
     "text": [
      "184687\n"
     ]
    }
   ],
   "source": [
    "# Group by owner and get the number of rows (.size) for each owner.\n",
    "# There will be one row for each owner for each job number,\n",
    "# so if a owner has 2 jobs we want to capture '2'.\n",
    "\n",
    "df_jobs_by_user = df_jobs_by_user.copy()\n",
    "print(len(df_jobs_by_user))  # 184687"
   ]
  },
  {
   "cell_type": "code",
   "execution_count": 27,
   "metadata": {
    "collapsed": true
   },
   "outputs": [
    {
     "data": {
      "text/plain": [
       "owner\n",
       "u1      83   \n",
       "u10     84   \n",
       "u100    11   \n",
       "u101    42   \n",
       "u102    96   \n",
       "u103    788  \n",
       "u104    31   \n",
       "u105    90   \n",
       "u106    38   \n",
       "u107    198  \n",
       "u108    5    \n",
       "u109    44   \n",
       "u11     157  \n",
       "u110    241  \n",
       "u111    41   \n",
       "u112    920  \n",
       "u113    30   \n",
       "u114    394  \n",
       "u115    54   \n",
       "u116    33   \n",
       "u117    69   \n",
       "u118    2113 \n",
       "u119    120  \n",
       "u12     2780 \n",
       "u120    256  \n",
       "u121    46   \n",
       "u122    113  \n",
       "u123    71   \n",
       "u124    17   \n",
       "u125    37   \n",
       "        ..   \n",
       "u72     320  \n",
       "u73     889  \n",
       "u74     145  \n",
       "u75     125  \n",
       "u76     95   \n",
       "u77     2054 \n",
       "u78     127  \n",
       "u79     50   \n",
       "u8      499  \n",
       "u80     205  \n",
       "u81     3    \n",
       "u82     72   \n",
       "u83     30   \n",
       "u84     52   \n",
       "u85     24   \n",
       "u86     93   \n",
       "u87     289  \n",
       "u88     47   \n",
       "u89     408  \n",
       "u9      58   \n",
       "u90     376  \n",
       "u91     17   \n",
       "u92     52   \n",
       "u93     41   \n",
       "u94     11366\n",
       "u95     223  \n",
       "u96     17   \n",
       "u97     9    \n",
       "u98     9    \n",
       "u99     21   \n",
       "Name: owner, Length: 699, dtype: int64"
      ]
     },
     "execution_count": 27,
     "metadata": {},
     "output_type": "execute_result"
    }
   ],
   "source": [
    "df_jobs_by_user.groupby(['owner'])['owner'].size()  \n",
    "# This does NOT update df in-place. Instead it creates a slice.\n",
    "# owner\n",
    "# u1      83   \n",
    "# u10     84   \n",
    "# u100    11 \n",
    "# ...\n",
    "# u99     21   \n",
    "# Name: owner, Length: 699, dtype: int64"
   ]
  },
  {
   "cell_type": "code",
   "execution_count": 28,
   "metadata": {},
   "outputs": [
    {
     "name": "stdout",
     "output_type": "stream",
     "text": [
      "699\n"
     ]
    }
   ],
   "source": [
    "df_jobs_by_user = df_jobs_by_user.groupby(['owner'])['owner'].size() \n",
    "print(len(df_jobs_by_user))  # 699"
   ]
  },
  {
   "cell_type": "code",
   "execution_count": 29,
   "metadata": {},
   "outputs": [
    {
     "data": {
      "text/plain": [
       "pandas.core.frame.DataFrame"
      ]
     },
     "execution_count": 29,
     "metadata": {},
     "output_type": "execute_result"
    }
   ],
   "source": [
    "df_jobs_by_user\n",
    "# owner\n",
    "# u1      83   \n",
    "# u10     84   \n",
    "# u100    11   \n",
    "# u101    42 ...\n",
    "\n",
    "type(df_jobs_by_user)  # pandas.core.series.Series. THIS IS NOT A DF ANYMORE.\n",
    "df_jobs_by_user = pd.DataFrame(df_jobs_by_user)\n",
    "type(df_jobs_by_user)  # it's a df again, but only has 1 col with the owner info as index"
   ]
  },
  {
   "cell_type": "code",
   "execution_count": 30,
   "metadata": {
    "collapsed": true
   },
   "outputs": [],
   "source": [
    "# print((df_jobs_by_user.index)[:3], '\\n')  # Index(['u1', 'u10', 'u100', ..., 'u99'], \n",
    "#                                           # dtype='object', name='owner', length=699)\n",
    "\n",
    "# print((df_jobs_by_user.columns)[:3], '\\n')  # Index(['owner'], dtype='object')\n",
    "\n",
    "# print((df_jobs_by_user['owner']).head(3), '\\n')  # Returns same as the pandas Series \n",
    "#                                                  # df_jobs_by_user w/o the index\n",
    "# # # owner\n",
    "# # u1      83   \n",
    "# # u10     84   \n",
    "# # u100    11   \n",
    "# # u101    42 ...\n",
    "\n",
    "# print((df_jobs_by_user[['owner']]).head(3), '\\n')  # double brackets\n",
    "# # Returns a fancier printout:\n",
    "# # \towner\n",
    "# # owner\t\n",
    "# # u1\t83\n",
    "# # u10\t84 ...\n",
    "\n",
    "# # Can query the table to find where a VALUE is True:\n",
    "# print((df_jobs_by_user[['owner']] == 83).head(3))  # conditional statement\n",
    "# # owner\n",
    "# # owner\t\n",
    "# # u1\tTrue  <--\n",
    "# # u10\tFalse ...\n",
    "\n",
    "# # ^^^ This returns a boolean mask of the entire df.\n",
    "\n",
    "# OUTPUT OF THE ABOVE:\n",
    "\n",
    "# Index(['u1', 'u10', 'u100'], dtype='object', name='owner') \n",
    "\n",
    "# Index(['owner'], dtype='object') \n",
    "\n",
    "# owner\n",
    "# u1      83\n",
    "# u10     84\n",
    "# u100    11\n",
    "# Name: owner, dtype: int64 \n",
    "\n",
    "#        owner\n",
    "# owner       \n",
    "# u1     83   \n",
    "# u10    84   \n",
    "# u100   11    \n",
    "\n",
    "#        owner\n",
    "# owner       \n",
    "# u1     True \n",
    "# u10    False\n",
    "# u100   False"
   ]
  },
  {
   "cell_type": "code",
   "execution_count": 31,
   "metadata": {
    "collapsed": true
   },
   "outputs": [],
   "source": [
    "# # To return **one** of the values\n",
    "# # or assign a value based on the index string or number:\n",
    "\n",
    "# print(\"df_jobs_by_user['owner'][0]  -->\", df_jobs_by_user['owner'][0])       # 83\n",
    "# print(\"df_jobs_by_user['owner']['u1'] -->\", df_jobs_by_user['owner']['u1'])  # 83\n",
    "\n",
    "# print('df_jobs_by_user.index[0]     -->', df_jobs_by_user.index[0])  # 'u1' Now we're cooking with lajiao. \n",
    "# # df_jobs_by_user.index == 'u1'  # array([ True, False, False, ...\n",
    "\n",
    "# # OUTPUT OF THE ABOVE:\n",
    "\n",
    "# # df_jobs_by_user['owner'][0]  --> 83\n",
    "# # df_jobs_by_user['owner']['u1'] --> 83\n",
    "# # df_jobs_by_user.index[0]     --> u1"
   ]
  },
  {
   "cell_type": "code",
   "execution_count": 32,
   "metadata": {
    "collapsed": true
   },
   "outputs": [
    {
     "name": "stdout",
     "output_type": "stream",
     "text": [
      "       owner\n",
      "owner       \n",
      "u1     83   \n",
      "u10    84   \n",
      "u100   11   \n",
      "u101   42   \n",
      "u102   96   \n",
      "u103   788  \n",
      "u104   31   \n",
      "u105   90   \n",
      "u106   38   \n",
      "u107   198  \n",
      "u108   5    \n",
      "u109   44   \n",
      "u11    157  \n",
      "u110   241  \n",
      "u111   41   \n",
      "u112   920  \n",
      "u113   30   \n",
      "u114   394  \n",
      "u115   54   \n",
      "u116   33   \n",
      "u117   69   \n",
      "u118   2113 \n",
      "u119   120  \n",
      "u12    2780 \n",
      "u120   256  \n",
      "u121   46   \n",
      "u122   113  \n",
      "u123   71   \n",
      "u124   17   \n",
      "u125   37   \n",
      "...    ..   \n",
      "u72    320  \n",
      "u73    889  \n",
      "u74    145  \n",
      "u75    125  \n",
      "u76    95   \n",
      "u77    2054 \n",
      "u78    127  \n",
      "u79    50   \n",
      "u8     499  \n",
      "u80    205  \n",
      "u81    3    \n",
      "u82    72   \n",
      "u83    30   \n",
      "u84    52   \n",
      "u85    24   \n",
      "u86    93   \n",
      "u87    289  \n",
      "u88    47   \n",
      "u89    408  \n",
      "u9     58   \n",
      "u90    376  \n",
      "u91    17   \n",
      "u92    52   \n",
      "u93    41   \n",
      "u94    11366\n",
      "u95    223  \n",
      "u96    17   \n",
      "u97    9    \n",
      "u98    9    \n",
      "u99    21   \n",
      "\n",
      "[699 rows x 1 columns]\n"
     ]
    }
   ],
   "source": [
    "# Jobs by user answer:\n",
    "print(df_jobs_by_user)\n",
    "\n",
    "#         owner\n",
    "# owner       \n",
    "# u1     83   \n",
    "# u10    84   \n",
    "# u100   11 ..."
   ]
  },
  {
   "cell_type": "markdown",
   "metadata": {},
   "source": [
    "**(2) How many jobs are run by each GROUP?** (e.g. group1: 324, group2: 24, ..)"
   ]
  },
  {
   "cell_type": "code",
   "execution_count": 33,
   "metadata": {},
   "outputs": [
    {
     "data": {
      "text/html": [
       "<div>\n",
       "<style scoped>\n",
       "    .dataframe tbody tr th:only-of-type {\n",
       "        vertical-align: middle;\n",
       "    }\n",
       "\n",
       "    .dataframe tbody tr th {\n",
       "        vertical-align: top;\n",
       "    }\n",
       "\n",
       "    .dataframe thead th {\n",
       "        text-align: right;\n",
       "    }\n",
       "</style>\n",
       "<table border=\"1\" class=\"dataframe\">\n",
       "  <thead>\n",
       "    <tr style=\"text-align: right;\">\n",
       "      <th></th>\n",
       "      <th>group</th>\n",
       "    </tr>\n",
       "    <tr>\n",
       "      <th>group</th>\n",
       "      <th></th>\n",
       "    </tr>\n",
       "  </thead>\n",
       "  <tbody>\n",
       "    <tr>\n",
       "      <th>g1</th>\n",
       "      <td>85</td>\n",
       "    </tr>\n",
       "    <tr>\n",
       "      <th>g10</th>\n",
       "      <td>295</td>\n",
       "    </tr>\n",
       "    <tr>\n",
       "      <th>g100</th>\n",
       "      <td>85</td>\n",
       "    </tr>\n",
       "    <tr>\n",
       "      <th>g101</th>\n",
       "      <td>136</td>\n",
       "    </tr>\n",
       "    <tr>\n",
       "      <th>g102</th>\n",
       "      <td>6</td>\n",
       "    </tr>\n",
       "  </tbody>\n",
       "</table>\n",
       "</div>"
      ],
      "text/plain": [
       "       group\n",
       "group       \n",
       "g1     85   \n",
       "g10    295  \n",
       "g100   85   \n",
       "g101   136  \n",
       "g102   6    "
      ]
     },
     "execution_count": 33,
     "metadata": {},
     "output_type": "execute_result"
    }
   ],
   "source": [
    "df_jobs_by_group = df.drop_duplicates(subset=['group', 'job_number'], keep='first')  # drop dupes\n",
    "df_jobs_by_group = df_jobs_by_group.copy()  # copy to avoid assigning to a slice\n",
    "df_jobs_by_group = df_jobs_by_group.groupby(['group'])['group'].size()  # Converts df to a series\n",
    "df_jobs_by_group = pd.DataFrame(df_jobs_by_group)  # convert back to a Dataframe\n",
    "df_jobs_by_group.head()\n",
    "# group\n",
    "# g1      85  \n",
    "# g10     295 \n",
    "# g100    85  \n",
    "# g101    136 \n",
    "# g102    6  \n",
    "# Name: group, Length: 203, dtype: int64"
   ]
  },
  {
   "cell_type": "markdown",
   "metadata": {},
   "source": [
    "Can a job number be associated with more than one user or group?"
   ]
  },
  {
   "cell_type": "code",
   "execution_count": 36,
   "metadata": {
    "collapsed": true
   },
   "outputs": [],
   "source": [
    "# # look at users by job number instead of job numbers by user\n",
    "users_by_job_number = df.groupby(['job_number', 'owner'])['job_number', 'owner']     "
   ]
  },
  {
   "cell_type": "code",
   "execution_count": 37,
   "metadata": {},
   "outputs": [
    {
     "data": {
      "text/plain": [
       "pandas.core.groupby.DataFrameGroupBy"
      ]
     },
     "execution_count": 37,
     "metadata": {},
     "output_type": "execute_result"
    }
   ],
   "source": [
    "type(users_by_job_number)"
   ]
  },
  {
   "cell_type": "code",
   "execution_count": 40,
   "metadata": {},
   "outputs": [
    {
     "data": {
      "text/plain": [
       "<pandas.core.groupby.DataFrameGroupBy object at 0x000002B00AC8B780>"
      ]
     },
     "execution_count": 40,
     "metadata": {},
     "output_type": "execute_result"
    }
   ],
   "source": [
    "users_by_job_number"
   ]
  },
  {
   "cell_type": "code",
   "execution_count": 39,
   "metadata": {},
   "outputs": [
    {
     "name": "stdout",
     "output_type": "stream",
     "text": [
      "((130207, 'u468'),         group owner  job_number  task_number  slot  slots  h_rt\n",
      "1135622  g2    u468  130207      0            1     1      4.0 )\n",
      "((130254, 'u468'),         group owner  job_number  task_number  slot  slots  h_rt\n",
      "1135684  g2    u468  130254      0            1     1      4.0 )\n",
      "((130362, 'u468'),         group owner  job_number  task_number  slot  slots  h_rt\n",
      "1135918  g2    u468  130362      0            1     1      2.0 )\n",
      "((130454, 'u468'),         group owner  job_number  task_number  slot  slots  h_rt\n",
      "1135641  g2    u468  130454      0            2     2      2.0 )\n",
      "((2946857, 'u49'),        group owner  job_number  task_number  slot  slots   h_rt\n",
      "4696    g7    u49   2946857     938          1     1      336.0\n",
      "8908    g7    u49   2946857     940          1     1      336.0\n",
      "9494    g7    u49   2946857     941          1     1      336.0\n",
      "10372   g7    u49   2946857     933          1     1      336.0\n",
      "11048   g7    u49   2946857     951          1     1      336.0\n",
      "12613   g7    u49   2946857     947          1     1      336.0\n",
      "22427   g7    u49   2946857     944          1     1      336.0\n",
      "24999   g7    u49   2946857     952          1     1      336.0\n",
      "29856   g7    u49   2946857     945          1     1      336.0\n",
      "29871   g7    u49   2946857     936          1     1      336.0\n",
      "41455   g7    u49   2946857     949          1     1      336.0\n",
      "42068   g7    u49   2946857     950          1     1      336.0\n",
      "46821   g7    u49   2946857     960          1     1      336.0\n",
      "47045   g7    u49   2946857     948          1     1      336.0\n",
      "48097   g7    u49   2946857     942          1     1      336.0\n",
      "50461   g7    u49   2946857     937          1     1      336.0\n",
      "53510   g7    u49   2946857     943          1     1      336.0\n",
      "57404   g7    u49   2946857     956          1     1      336.0\n",
      "59820   g7    u49   2946857     958          1     1      336.0\n",
      "61092   g7    u49   2946857     954          1     1      336.0\n",
      "61248   g7    u49   2946857     959          1     1      336.0\n",
      "75935   g7    u49   2946857     953          1     1      336.0\n",
      "87112   g7    u49   2946857     957          1     1      336.0\n",
      "93150   g7    u49   2946857     955          1     1      336.0\n",
      "110248  g7    u49   2946857     946          1     1      336.0)\n"
     ]
    }
   ],
   "source": [
    "for i,j in enumerate(users_by_job_number):\n",
    "    if i < 5:\n",
    "        print(j)"
   ]
  },
  {
   "cell_type": "code",
   "execution_count": null,
   "metadata": {
    "collapsed": true
   },
   "outputs": [],
   "source": [
    "# 0          u1  \n",
    "# 1          u2  \n",
    "# 2          u1 ...\n",
    "# 4580078    u409\n",
    "# Name: owner, Length: 233008, dtype: object\n",
    "\n",
    "# 233008 is a strange len. It does not approximate any of the values I would expect:\n",
    "# groups:             203 \n",
    "# users:              699 \n",
    "# job_numbers:        184688 \n",
    "# task_numbers:       156538 "
   ]
  },
  {
   "cell_type": "markdown",
   "metadata": {},
   "source": [
    "**How get rid of \"Name: owner, Length: 233008, dtype: object\" text at end of pandas printouts???**"
   ]
  },
  {
   "cell_type": "code",
   "execution_count": 44,
   "metadata": {},
   "outputs": [
    {
     "ename": "StopIteration",
     "evalue": "",
     "output_type": "error",
     "traceback": [
      "\u001b[1;31m---------------------------------------------------------------------------\u001b[0m",
      "\u001b[1;31mStopIteration\u001b[0m                             Traceback (most recent call last)",
      "\u001b[1;32m~\\Anaconda2\\envs\\py36\\lib\\site-packages\\IPython\\core\\formatters.py\u001b[0m in \u001b[0;36m__call__\u001b[1;34m(self, obj)\u001b[0m\n\u001b[0;32m    700\u001b[0m                 \u001b[0mtype_pprinters\u001b[0m\u001b[1;33m=\u001b[0m\u001b[0mself\u001b[0m\u001b[1;33m.\u001b[0m\u001b[0mtype_printers\u001b[0m\u001b[1;33m,\u001b[0m\u001b[1;33m\u001b[0m\u001b[0m\n\u001b[0;32m    701\u001b[0m                 deferred_pprinters=self.deferred_printers)\n\u001b[1;32m--> 702\u001b[1;33m             \u001b[0mprinter\u001b[0m\u001b[1;33m.\u001b[0m\u001b[0mpretty\u001b[0m\u001b[1;33m(\u001b[0m\u001b[0mobj\u001b[0m\u001b[1;33m)\u001b[0m\u001b[1;33m\u001b[0m\u001b[0m\n\u001b[0m\u001b[0;32m    703\u001b[0m             \u001b[0mprinter\u001b[0m\u001b[1;33m.\u001b[0m\u001b[0mflush\u001b[0m\u001b[1;33m(\u001b[0m\u001b[1;33m)\u001b[0m\u001b[1;33m\u001b[0m\u001b[0m\n\u001b[0;32m    704\u001b[0m             \u001b[1;32mreturn\u001b[0m \u001b[0mstream\u001b[0m\u001b[1;33m.\u001b[0m\u001b[0mgetvalue\u001b[0m\u001b[1;33m(\u001b[0m\u001b[1;33m)\u001b[0m\u001b[1;33m\u001b[0m\u001b[0m\n",
      "\u001b[1;32m~\\Anaconda2\\envs\\py36\\lib\\site-packages\\IPython\\lib\\pretty.py\u001b[0m in \u001b[0;36mpretty\u001b[1;34m(self, obj)\u001b[0m\n\u001b[0;32m    393\u001b[0m                             \u001b[1;32mif\u001b[0m \u001b[0mcallable\u001b[0m\u001b[1;33m(\u001b[0m\u001b[0mmeth\u001b[0m\u001b[1;33m)\u001b[0m\u001b[1;33m:\u001b[0m\u001b[1;33m\u001b[0m\u001b[0m\n\u001b[0;32m    394\u001b[0m                                 \u001b[1;32mreturn\u001b[0m \u001b[0mmeth\u001b[0m\u001b[1;33m(\u001b[0m\u001b[0mobj\u001b[0m\u001b[1;33m,\u001b[0m \u001b[0mself\u001b[0m\u001b[1;33m,\u001b[0m \u001b[0mcycle\u001b[0m\u001b[1;33m)\u001b[0m\u001b[1;33m\u001b[0m\u001b[0m\n\u001b[1;32m--> 395\u001b[1;33m             \u001b[1;32mreturn\u001b[0m \u001b[0m_default_pprint\u001b[0m\u001b[1;33m(\u001b[0m\u001b[0mobj\u001b[0m\u001b[1;33m,\u001b[0m \u001b[0mself\u001b[0m\u001b[1;33m,\u001b[0m \u001b[0mcycle\u001b[0m\u001b[1;33m)\u001b[0m\u001b[1;33m\u001b[0m\u001b[0m\n\u001b[0m\u001b[0;32m    396\u001b[0m         \u001b[1;32mfinally\u001b[0m\u001b[1;33m:\u001b[0m\u001b[1;33m\u001b[0m\u001b[0m\n\u001b[0;32m    397\u001b[0m             \u001b[0mself\u001b[0m\u001b[1;33m.\u001b[0m\u001b[0mend_group\u001b[0m\u001b[1;33m(\u001b[0m\u001b[1;33m)\u001b[0m\u001b[1;33m\u001b[0m\u001b[0m\n",
      "\u001b[1;32m~\\Anaconda2\\envs\\py36\\lib\\site-packages\\IPython\\lib\\pretty.py\u001b[0m in \u001b[0;36m_default_pprint\u001b[1;34m(obj, p, cycle)\u001b[0m\n\u001b[0;32m    508\u001b[0m     \u001b[1;32mif\u001b[0m \u001b[0m_safe_getattr\u001b[0m\u001b[1;33m(\u001b[0m\u001b[0mklass\u001b[0m\u001b[1;33m,\u001b[0m \u001b[1;34m'__repr__'\u001b[0m\u001b[1;33m,\u001b[0m \u001b[1;32mNone\u001b[0m\u001b[1;33m)\u001b[0m \u001b[1;32mis\u001b[0m \u001b[1;32mnot\u001b[0m \u001b[0mobject\u001b[0m\u001b[1;33m.\u001b[0m\u001b[0m__repr__\u001b[0m\u001b[1;33m:\u001b[0m\u001b[1;33m\u001b[0m\u001b[0m\n\u001b[0;32m    509\u001b[0m         \u001b[1;31m# A user-provided repr. Find newlines and replace them with p.break_()\u001b[0m\u001b[1;33m\u001b[0m\u001b[1;33m\u001b[0m\u001b[0m\n\u001b[1;32m--> 510\u001b[1;33m         \u001b[0m_repr_pprint\u001b[0m\u001b[1;33m(\u001b[0m\u001b[0mobj\u001b[0m\u001b[1;33m,\u001b[0m \u001b[0mp\u001b[0m\u001b[1;33m,\u001b[0m \u001b[0mcycle\u001b[0m\u001b[1;33m)\u001b[0m\u001b[1;33m\u001b[0m\u001b[0m\n\u001b[0m\u001b[0;32m    511\u001b[0m         \u001b[1;32mreturn\u001b[0m\u001b[1;33m\u001b[0m\u001b[0m\n\u001b[0;32m    512\u001b[0m     \u001b[0mp\u001b[0m\u001b[1;33m.\u001b[0m\u001b[0mbegin_group\u001b[0m\u001b[1;33m(\u001b[0m\u001b[1;36m1\u001b[0m\u001b[1;33m,\u001b[0m \u001b[1;34m'<'\u001b[0m\u001b[1;33m)\u001b[0m\u001b[1;33m\u001b[0m\u001b[0m\n",
      "\u001b[1;32m~\\Anaconda2\\envs\\py36\\lib\\site-packages\\IPython\\lib\\pretty.py\u001b[0m in \u001b[0;36m_repr_pprint\u001b[1;34m(obj, p, cycle)\u001b[0m\n\u001b[0;32m    699\u001b[0m     \u001b[1;34m\"\"\"A pprint that just redirects to the normal repr function.\"\"\"\u001b[0m\u001b[1;33m\u001b[0m\u001b[0m\n\u001b[0;32m    700\u001b[0m     \u001b[1;31m# Find newlines and replace them with p.break_()\u001b[0m\u001b[1;33m\u001b[0m\u001b[1;33m\u001b[0m\u001b[0m\n\u001b[1;32m--> 701\u001b[1;33m     \u001b[0moutput\u001b[0m \u001b[1;33m=\u001b[0m \u001b[0mrepr\u001b[0m\u001b[1;33m(\u001b[0m\u001b[0mobj\u001b[0m\u001b[1;33m)\u001b[0m\u001b[1;33m\u001b[0m\u001b[0m\n\u001b[0m\u001b[0;32m    702\u001b[0m     \u001b[1;32mfor\u001b[0m \u001b[0midx\u001b[0m\u001b[1;33m,\u001b[0m\u001b[0moutput_line\u001b[0m \u001b[1;32min\u001b[0m \u001b[0menumerate\u001b[0m\u001b[1;33m(\u001b[0m\u001b[0moutput\u001b[0m\u001b[1;33m.\u001b[0m\u001b[0msplitlines\u001b[0m\u001b[1;33m(\u001b[0m\u001b[1;33m)\u001b[0m\u001b[1;33m)\u001b[0m\u001b[1;33m:\u001b[0m\u001b[1;33m\u001b[0m\u001b[0m\n\u001b[0;32m    703\u001b[0m         \u001b[1;32mif\u001b[0m \u001b[0midx\u001b[0m\u001b[1;33m:\u001b[0m\u001b[1;33m\u001b[0m\u001b[0m\n",
      "\u001b[1;32m~\\Anaconda2\\envs\\py36\\lib\\site-packages\\pandas\\core\\base.py\u001b[0m in \u001b[0;36m__repr__\u001b[1;34m(self)\u001b[0m\n\u001b[0;32m     78\u001b[0m         \u001b[0mYields\u001b[0m \u001b[0mBytestring\u001b[0m \u001b[1;32min\u001b[0m \u001b[0mPy2\u001b[0m\u001b[1;33m,\u001b[0m \u001b[0mUnicode\u001b[0m \u001b[0mString\u001b[0m \u001b[1;32min\u001b[0m \u001b[0mpy3\u001b[0m\u001b[1;33m.\u001b[0m\u001b[1;33m\u001b[0m\u001b[0m\n\u001b[0;32m     79\u001b[0m         \"\"\"\n\u001b[1;32m---> 80\u001b[1;33m         \u001b[1;32mreturn\u001b[0m \u001b[0mstr\u001b[0m\u001b[1;33m(\u001b[0m\u001b[0mself\u001b[0m\u001b[1;33m)\u001b[0m\u001b[1;33m\u001b[0m\u001b[0m\n\u001b[0m\u001b[0;32m     81\u001b[0m \u001b[1;33m\u001b[0m\u001b[0m\n\u001b[0;32m     82\u001b[0m \u001b[1;33m\u001b[0m\u001b[0m\n",
      "\u001b[1;32m~\\Anaconda2\\envs\\py36\\lib\\site-packages\\pandas\\core\\base.py\u001b[0m in \u001b[0;36m__str__\u001b[1;34m(self)\u001b[0m\n\u001b[0;32m     57\u001b[0m \u001b[1;33m\u001b[0m\u001b[0m\n\u001b[0;32m     58\u001b[0m         \u001b[1;32mif\u001b[0m \u001b[0mcompat\u001b[0m\u001b[1;33m.\u001b[0m\u001b[0mPY3\u001b[0m\u001b[1;33m:\u001b[0m\u001b[1;33m\u001b[0m\u001b[0m\n\u001b[1;32m---> 59\u001b[1;33m             \u001b[1;32mreturn\u001b[0m \u001b[0mself\u001b[0m\u001b[1;33m.\u001b[0m\u001b[0m__unicode__\u001b[0m\u001b[1;33m(\u001b[0m\u001b[1;33m)\u001b[0m\u001b[1;33m\u001b[0m\u001b[0m\n\u001b[0m\u001b[0;32m     60\u001b[0m         \u001b[1;32mreturn\u001b[0m \u001b[0mself\u001b[0m\u001b[1;33m.\u001b[0m\u001b[0m__bytes__\u001b[0m\u001b[1;33m(\u001b[0m\u001b[1;33m)\u001b[0m\u001b[1;33m\u001b[0m\u001b[0m\n\u001b[0;32m     61\u001b[0m \u001b[1;33m\u001b[0m\u001b[0m\n",
      "\u001b[1;32m~\\Anaconda2\\envs\\py36\\lib\\site-packages\\pandas\\core\\series.py\u001b[0m in \u001b[0;36m__unicode__\u001b[1;34m(self)\u001b[0m\n\u001b[0;32m   1064\u001b[0m \u001b[1;33m\u001b[0m\u001b[0m\n\u001b[0;32m   1065\u001b[0m         self.to_string(buf=buf, name=self.name, dtype=self.dtype,\n\u001b[1;32m-> 1066\u001b[1;33m                        max_rows=max_rows, length=show_dimensions)\n\u001b[0m\u001b[0;32m   1067\u001b[0m         \u001b[0mresult\u001b[0m \u001b[1;33m=\u001b[0m \u001b[0mbuf\u001b[0m\u001b[1;33m.\u001b[0m\u001b[0mgetvalue\u001b[0m\u001b[1;33m(\u001b[0m\u001b[1;33m)\u001b[0m\u001b[1;33m\u001b[0m\u001b[0m\n\u001b[0;32m   1068\u001b[0m \u001b[1;33m\u001b[0m\u001b[0m\n",
      "\u001b[1;32m~\\Anaconda2\\envs\\py36\\lib\\site-packages\\pandas\\core\\series.py\u001b[0m in \u001b[0;36mto_string\u001b[1;34m(self, buf, na_rep, float_format, header, index, length, dtype, name, max_rows)\u001b[0m\n\u001b[0;32m   1108\u001b[0m                                         \u001b[0mfloat_format\u001b[0m\u001b[1;33m=\u001b[0m\u001b[0mfloat_format\u001b[0m\u001b[1;33m,\u001b[0m\u001b[1;33m\u001b[0m\u001b[0m\n\u001b[0;32m   1109\u001b[0m                                         max_rows=max_rows)\n\u001b[1;32m-> 1110\u001b[1;33m         \u001b[0mresult\u001b[0m \u001b[1;33m=\u001b[0m \u001b[0mformatter\u001b[0m\u001b[1;33m.\u001b[0m\u001b[0mto_string\u001b[0m\u001b[1;33m(\u001b[0m\u001b[1;33m)\u001b[0m\u001b[1;33m\u001b[0m\u001b[0m\n\u001b[0m\u001b[0;32m   1111\u001b[0m \u001b[1;33m\u001b[0m\u001b[0m\n\u001b[0;32m   1112\u001b[0m         \u001b[1;31m# catch contract violations\u001b[0m\u001b[1;33m\u001b[0m\u001b[1;33m\u001b[0m\u001b[0m\n",
      "\u001b[1;32m~\\Anaconda2\\envs\\py36\\lib\\site-packages\\pandas\\io\\formats\\format.py\u001b[0m in \u001b[0;36mto_string\u001b[1;34m(self)\u001b[0m\n\u001b[0;32m    257\u001b[0m \u001b[1;33m\u001b[0m\u001b[0m\n\u001b[0;32m    258\u001b[0m         \u001b[0mfmt_index\u001b[0m\u001b[1;33m,\u001b[0m \u001b[0mhave_header\u001b[0m \u001b[1;33m=\u001b[0m \u001b[0mself\u001b[0m\u001b[1;33m.\u001b[0m\u001b[0m_get_formatted_index\u001b[0m\u001b[1;33m(\u001b[0m\u001b[1;33m)\u001b[0m\u001b[1;33m\u001b[0m\u001b[0m\n\u001b[1;32m--> 259\u001b[1;33m         \u001b[0mfmt_values\u001b[0m \u001b[1;33m=\u001b[0m \u001b[0mself\u001b[0m\u001b[1;33m.\u001b[0m\u001b[0m_get_formatted_values\u001b[0m\u001b[1;33m(\u001b[0m\u001b[1;33m)\u001b[0m\u001b[1;33m\u001b[0m\u001b[0m\n\u001b[0m\u001b[0;32m    260\u001b[0m \u001b[1;33m\u001b[0m\u001b[0m\n\u001b[0;32m    261\u001b[0m         \u001b[1;32mif\u001b[0m \u001b[0mself\u001b[0m\u001b[1;33m.\u001b[0m\u001b[0mtruncate_v\u001b[0m\u001b[1;33m:\u001b[0m\u001b[1;33m\u001b[0m\u001b[0m\n",
      "\u001b[1;32m~\\Anaconda2\\envs\\py36\\lib\\site-packages\\pandas\\io\\formats\\format.py\u001b[0m in \u001b[0;36m_get_formatted_values\u001b[1;34m(self)\u001b[0m\n\u001b[0;32m    247\u001b[0m         \u001b[0mvalues_to_format\u001b[0m \u001b[1;33m=\u001b[0m \u001b[0mself\u001b[0m\u001b[1;33m.\u001b[0m\u001b[0mtr_series\u001b[0m\u001b[1;33m.\u001b[0m\u001b[0m_formatting_values\u001b[0m\u001b[1;33m(\u001b[0m\u001b[1;33m)\u001b[0m\u001b[1;33m\u001b[0m\u001b[0m\n\u001b[0;32m    248\u001b[0m         return format_array(values_to_format, None,\n\u001b[1;32m--> 249\u001b[1;33m                             float_format=self.float_format, na_rep=self.na_rep)\n\u001b[0m\u001b[0;32m    250\u001b[0m \u001b[1;33m\u001b[0m\u001b[0m\n\u001b[0;32m    251\u001b[0m     \u001b[1;32mdef\u001b[0m \u001b[0mto_string\u001b[0m\u001b[1;33m(\u001b[0m\u001b[0mself\u001b[0m\u001b[1;33m)\u001b[0m\u001b[1;33m:\u001b[0m\u001b[1;33m\u001b[0m\u001b[0m\n",
      "\u001b[1;32m~\\Anaconda2\\envs\\py36\\lib\\site-packages\\pandas\\io\\formats\\format.py\u001b[0m in \u001b[0;36mformat_array\u001b[1;34m(values, formatter, float_format, na_rep, digits, space, justify, decimal)\u001b[0m\n\u001b[0;32m   1820\u001b[0m                         space=space, justify=justify, decimal=decimal)\n\u001b[0;32m   1821\u001b[0m \u001b[1;33m\u001b[0m\u001b[0m\n\u001b[1;32m-> 1822\u001b[1;33m     \u001b[1;32mreturn\u001b[0m \u001b[0mfmt_obj\u001b[0m\u001b[1;33m.\u001b[0m\u001b[0mget_result\u001b[0m\u001b[1;33m(\u001b[0m\u001b[1;33m)\u001b[0m\u001b[1;33m\u001b[0m\u001b[0m\n\u001b[0m\u001b[0;32m   1823\u001b[0m \u001b[1;33m\u001b[0m\u001b[0m\n\u001b[0;32m   1824\u001b[0m \u001b[1;33m\u001b[0m\u001b[0m\n",
      "\u001b[1;32m~\\Anaconda2\\envs\\py36\\lib\\site-packages\\pandas\\io\\formats\\format.py\u001b[0m in \u001b[0;36mget_result\u001b[1;34m(self)\u001b[0m\n\u001b[0;32m   1840\u001b[0m \u001b[1;33m\u001b[0m\u001b[0m\n\u001b[0;32m   1841\u001b[0m     \u001b[1;32mdef\u001b[0m \u001b[0mget_result\u001b[0m\u001b[1;33m(\u001b[0m\u001b[0mself\u001b[0m\u001b[1;33m)\u001b[0m\u001b[1;33m:\u001b[0m\u001b[1;33m\u001b[0m\u001b[0m\n\u001b[1;32m-> 1842\u001b[1;33m         \u001b[0mfmt_values\u001b[0m \u001b[1;33m=\u001b[0m \u001b[0mself\u001b[0m\u001b[1;33m.\u001b[0m\u001b[0m_format_strings\u001b[0m\u001b[1;33m(\u001b[0m\u001b[1;33m)\u001b[0m\u001b[1;33m\u001b[0m\u001b[0m\n\u001b[0m\u001b[0;32m   1843\u001b[0m         \u001b[1;32mreturn\u001b[0m \u001b[0m_make_fixed_width\u001b[0m\u001b[1;33m(\u001b[0m\u001b[0mfmt_values\u001b[0m\u001b[1;33m,\u001b[0m \u001b[0mself\u001b[0m\u001b[1;33m.\u001b[0m\u001b[0mjustify\u001b[0m\u001b[1;33m)\u001b[0m\u001b[1;33m\u001b[0m\u001b[0m\n\u001b[0;32m   1844\u001b[0m \u001b[1;33m\u001b[0m\u001b[0m\n",
      "\u001b[1;32m~\\Anaconda2\\envs\\py36\\lib\\site-packages\\pandas\\io\\formats\\format.py\u001b[0m in \u001b[0;36m_format_strings\u001b[1;34m(self)\u001b[0m\n\u001b[0;32m   1886\u001b[0m                 \u001b[0mfmt_values\u001b[0m\u001b[1;33m.\u001b[0m\u001b[0mappend\u001b[0m\u001b[1;33m(\u001b[0m\u001b[0mfloat_format\u001b[0m\u001b[1;33m(\u001b[0m\u001b[0mv\u001b[0m\u001b[1;33m)\u001b[0m\u001b[1;33m)\u001b[0m\u001b[1;33m\u001b[0m\u001b[0m\n\u001b[0;32m   1887\u001b[0m             \u001b[1;32melse\u001b[0m\u001b[1;33m:\u001b[0m\u001b[1;33m\u001b[0m\u001b[0m\n\u001b[1;32m-> 1888\u001b[1;33m                 \u001b[0mfmt_values\u001b[0m\u001b[1;33m.\u001b[0m\u001b[0mappend\u001b[0m\u001b[1;33m(\u001b[0m\u001b[1;34mu' {v}'\u001b[0m\u001b[1;33m.\u001b[0m\u001b[0mformat\u001b[0m\u001b[1;33m(\u001b[0m\u001b[0mv\u001b[0m\u001b[1;33m=\u001b[0m\u001b[0m_format\u001b[0m\u001b[1;33m(\u001b[0m\u001b[0mv\u001b[0m\u001b[1;33m)\u001b[0m\u001b[1;33m)\u001b[0m\u001b[1;33m)\u001b[0m\u001b[1;33m\u001b[0m\u001b[0m\n\u001b[0m\u001b[0;32m   1889\u001b[0m \u001b[1;33m\u001b[0m\u001b[0m\n\u001b[0;32m   1890\u001b[0m         \u001b[1;32mreturn\u001b[0m \u001b[0mfmt_values\u001b[0m\u001b[1;33m\u001b[0m\u001b[0m\n",
      "\u001b[1;32m~\\Anaconda2\\envs\\py36\\lib\\site-packages\\pandas\\io\\formats\\format.py\u001b[0m in \u001b[0;36m_format\u001b[1;34m(x)\u001b[0m\n\u001b[0;32m   1868\u001b[0m             \u001b[1;32melse\u001b[0m\u001b[1;33m:\u001b[0m\u001b[1;33m\u001b[0m\u001b[0m\n\u001b[0;32m   1869\u001b[0m                 \u001b[1;31m# object dtype\u001b[0m\u001b[1;33m\u001b[0m\u001b[1;33m\u001b[0m\u001b[0m\n\u001b[1;32m-> 1870\u001b[1;33m                 \u001b[1;32mreturn\u001b[0m \u001b[1;34mu'{x}'\u001b[0m\u001b[1;33m.\u001b[0m\u001b[0mformat\u001b[0m\u001b[1;33m(\u001b[0m\u001b[0mx\u001b[0m\u001b[1;33m=\u001b[0m\u001b[0mformatter\u001b[0m\u001b[1;33m(\u001b[0m\u001b[0mx\u001b[0m\u001b[1;33m)\u001b[0m\u001b[1;33m)\u001b[0m\u001b[1;33m\u001b[0m\u001b[0m\n\u001b[0m\u001b[0;32m   1871\u001b[0m \u001b[1;33m\u001b[0m\u001b[0m\n\u001b[0;32m   1872\u001b[0m         \u001b[0mvals\u001b[0m \u001b[1;33m=\u001b[0m \u001b[0mself\u001b[0m\u001b[1;33m.\u001b[0m\u001b[0mvalues\u001b[0m\u001b[1;33m\u001b[0m\u001b[0m\n",
      "\u001b[1;32m~\\Anaconda2\\envs\\py36\\lib\\site-packages\\pandas\\io\\formats\\format.py\u001b[0m in \u001b[0;36m<lambda>\u001b[1;34m(x)\u001b[0m\n\u001b[0;32m   1855\u001b[0m         formatter = (\n\u001b[0;32m   1856\u001b[0m             \u001b[0mself\u001b[0m\u001b[1;33m.\u001b[0m\u001b[0mformatter\u001b[0m \u001b[1;32mif\u001b[0m \u001b[0mself\u001b[0m\u001b[1;33m.\u001b[0m\u001b[0mformatter\u001b[0m \u001b[1;32mis\u001b[0m \u001b[1;32mnot\u001b[0m \u001b[1;32mNone\u001b[0m \u001b[1;32melse\u001b[0m\u001b[1;33m\u001b[0m\u001b[0m\n\u001b[1;32m-> 1857\u001b[1;33m             (lambda x: pprint_thing(x, escape_chars=('\\t', '\\r', '\\n'))))\n\u001b[0m\u001b[0;32m   1858\u001b[0m \u001b[1;33m\u001b[0m\u001b[0m\n\u001b[0;32m   1859\u001b[0m         \u001b[1;32mdef\u001b[0m \u001b[0m_format\u001b[0m\u001b[1;33m(\u001b[0m\u001b[0mx\u001b[0m\u001b[1;33m)\u001b[0m\u001b[1;33m:\u001b[0m\u001b[1;33m\u001b[0m\u001b[0m\n",
      "\u001b[1;32m~\\Anaconda2\\envs\\py36\\lib\\site-packages\\pandas\\io\\formats\\printing.py\u001b[0m in \u001b[0;36mpprint_thing\u001b[1;34m(thing, _nest_lvl, escape_chars, default_escapes, quote_strings, max_seq_items)\u001b[0m\n\u001b[0;32m    220\u001b[0m         result = _pprint_seq(thing, _nest_lvl, escape_chars=escape_chars,\n\u001b[0;32m    221\u001b[0m                              \u001b[0mquote_strings\u001b[0m\u001b[1;33m=\u001b[0m\u001b[0mquote_strings\u001b[0m\u001b[1;33m,\u001b[0m\u001b[1;33m\u001b[0m\u001b[0m\n\u001b[1;32m--> 222\u001b[1;33m                              max_seq_items=max_seq_items)\n\u001b[0m\u001b[0;32m    223\u001b[0m     \u001b[1;32melif\u001b[0m \u001b[0misinstance\u001b[0m\u001b[1;33m(\u001b[0m\u001b[0mthing\u001b[0m\u001b[1;33m,\u001b[0m \u001b[0mcompat\u001b[0m\u001b[1;33m.\u001b[0m\u001b[0mstring_types\u001b[0m\u001b[1;33m)\u001b[0m \u001b[1;32mand\u001b[0m \u001b[0mquote_strings\u001b[0m\u001b[1;33m:\u001b[0m\u001b[1;33m\u001b[0m\u001b[0m\n\u001b[0;32m    224\u001b[0m         \u001b[1;32mif\u001b[0m \u001b[0mcompat\u001b[0m\u001b[1;33m.\u001b[0m\u001b[0mPY3\u001b[0m\u001b[1;33m:\u001b[0m\u001b[1;33m\u001b[0m\u001b[0m\n",
      "\u001b[1;32m~\\Anaconda2\\envs\\py36\\lib\\site-packages\\pandas\\io\\formats\\printing.py\u001b[0m in \u001b[0;36m_pprint_seq\u001b[1;34m(seq, _nest_lvl, max_seq_items, **kwds)\u001b[0m\n\u001b[0;32m    116\u001b[0m     \u001b[1;32mfor\u001b[0m \u001b[0mi\u001b[0m \u001b[1;32min\u001b[0m \u001b[0mrange\u001b[0m\u001b[1;33m(\u001b[0m\u001b[0mmin\u001b[0m\u001b[1;33m(\u001b[0m\u001b[0mnitems\u001b[0m\u001b[1;33m,\u001b[0m \u001b[0mlen\u001b[0m\u001b[1;33m(\u001b[0m\u001b[0mseq\u001b[0m\u001b[1;33m)\u001b[0m\u001b[1;33m)\u001b[0m\u001b[1;33m)\u001b[0m\u001b[1;33m:\u001b[0m  \u001b[1;31m# handle sets, no slicing\u001b[0m\u001b[1;33m\u001b[0m\u001b[0m\n\u001b[0;32m    117\u001b[0m         r.append(pprint_thing(\n\u001b[1;32m--> 118\u001b[1;33m             next(s), _nest_lvl + 1, max_seq_items=max_seq_items, **kwds))\n\u001b[0m\u001b[0;32m    119\u001b[0m     \u001b[0mbody\u001b[0m \u001b[1;33m=\u001b[0m \u001b[1;34m\", \"\u001b[0m\u001b[1;33m.\u001b[0m\u001b[0mjoin\u001b[0m\u001b[1;33m(\u001b[0m\u001b[0mr\u001b[0m\u001b[1;33m)\u001b[0m\u001b[1;33m\u001b[0m\u001b[0m\n\u001b[0;32m    120\u001b[0m \u001b[1;33m\u001b[0m\u001b[0m\n",
      "\u001b[1;32m~\\Anaconda2\\envs\\py36\\lib\\site-packages\\pandas\\io\\formats\\printing.py\u001b[0m in \u001b[0;36mpprint_thing\u001b[1;34m(thing, _nest_lvl, escape_chars, default_escapes, quote_strings, max_seq_items)\u001b[0m\n\u001b[0;32m    220\u001b[0m         result = _pprint_seq(thing, _nest_lvl, escape_chars=escape_chars,\n\u001b[0;32m    221\u001b[0m                              \u001b[0mquote_strings\u001b[0m\u001b[1;33m=\u001b[0m\u001b[0mquote_strings\u001b[0m\u001b[1;33m,\u001b[0m\u001b[1;33m\u001b[0m\u001b[0m\n\u001b[1;32m--> 222\u001b[1;33m                              max_seq_items=max_seq_items)\n\u001b[0m\u001b[0;32m    223\u001b[0m     \u001b[1;32melif\u001b[0m \u001b[0misinstance\u001b[0m\u001b[1;33m(\u001b[0m\u001b[0mthing\u001b[0m\u001b[1;33m,\u001b[0m \u001b[0mcompat\u001b[0m\u001b[1;33m.\u001b[0m\u001b[0mstring_types\u001b[0m\u001b[1;33m)\u001b[0m \u001b[1;32mand\u001b[0m \u001b[0mquote_strings\u001b[0m\u001b[1;33m:\u001b[0m\u001b[1;33m\u001b[0m\u001b[0m\n\u001b[0;32m    224\u001b[0m         \u001b[1;32mif\u001b[0m \u001b[0mcompat\u001b[0m\u001b[1;33m.\u001b[0m\u001b[0mPY3\u001b[0m\u001b[1;33m:\u001b[0m\u001b[1;33m\u001b[0m\u001b[0m\n",
      "\u001b[1;32m~\\Anaconda2\\envs\\py36\\lib\\site-packages\\pandas\\io\\formats\\printing.py\u001b[0m in \u001b[0;36m_pprint_seq\u001b[1;34m(seq, _nest_lvl, max_seq_items, **kwds)\u001b[0m\n\u001b[0;32m    116\u001b[0m     \u001b[1;32mfor\u001b[0m \u001b[0mi\u001b[0m \u001b[1;32min\u001b[0m \u001b[0mrange\u001b[0m\u001b[1;33m(\u001b[0m\u001b[0mmin\u001b[0m\u001b[1;33m(\u001b[0m\u001b[0mnitems\u001b[0m\u001b[1;33m,\u001b[0m \u001b[0mlen\u001b[0m\u001b[1;33m(\u001b[0m\u001b[0mseq\u001b[0m\u001b[1;33m)\u001b[0m\u001b[1;33m)\u001b[0m\u001b[1;33m)\u001b[0m\u001b[1;33m:\u001b[0m  \u001b[1;31m# handle sets, no slicing\u001b[0m\u001b[1;33m\u001b[0m\u001b[0m\n\u001b[0;32m    117\u001b[0m         r.append(pprint_thing(\n\u001b[1;32m--> 118\u001b[1;33m             next(s), _nest_lvl + 1, max_seq_items=max_seq_items, **kwds))\n\u001b[0m\u001b[0;32m    119\u001b[0m     \u001b[0mbody\u001b[0m \u001b[1;33m=\u001b[0m \u001b[1;34m\", \"\u001b[0m\u001b[1;33m.\u001b[0m\u001b[0mjoin\u001b[0m\u001b[1;33m(\u001b[0m\u001b[0mr\u001b[0m\u001b[1;33m)\u001b[0m\u001b[1;33m\u001b[0m\u001b[0m\n\u001b[0;32m    120\u001b[0m \u001b[1;33m\u001b[0m\u001b[0m\n",
      "\u001b[1;31mStopIteration\u001b[0m: "
     ]
    }
   ],
   "source": [
    "x = pd.Series(users_by_job_number)\n",
    "x.head()\n",
    "# 0    ((130207, u468), [u468])                                                                                                                       \n",
    "# 1    ((130254, u468), [u468])                                                                                                                       \n",
    "# 2    ((130362, u468), [u468])                                                                                                                       \n",
    "# 3    ((130454, u468), [u468])                                                                                                                       \n",
    "# 4    ((2946857, u49), [u49, u49, u49, u49, u49, u49, u49, u49, u49, u49, u49, u49, u49, u49, u49, u49, u49, u49, u49, u49, u49, u49, u49, u49, u49])\n",
    "# dtype: object"
   ]
  },
  {
   "cell_type": "code",
   "execution_count": 43,
   "metadata": {},
   "outputs": [
    {
     "ename": "ValueError",
     "evalue": "DataFrame constructor not properly called!",
     "output_type": "error",
     "traceback": [
      "\u001b[1;31m---------------------------------------------------------------------------\u001b[0m",
      "\u001b[1;31mValueError\u001b[0m                                Traceback (most recent call last)",
      "\u001b[1;32m<ipython-input-43-6153bf9b7aae>\u001b[0m in \u001b[0;36m<module>\u001b[1;34m()\u001b[0m\n\u001b[0;32m      1\u001b[0m \u001b[1;31m# ^^^ IT'S MISSING ALL THE INDEX VALUES FOR THE LISTS.\u001b[0m\u001b[1;33m\u001b[0m\u001b[1;33m\u001b[0m\u001b[0m\n\u001b[0;32m      2\u001b[0m \u001b[1;33m\u001b[0m\u001b[0m\n\u001b[1;32m----> 3\u001b[1;33m \u001b[0mx\u001b[0m \u001b[1;33m=\u001b[0m \u001b[0mpd\u001b[0m\u001b[1;33m.\u001b[0m\u001b[0mDataFrame\u001b[0m\u001b[1;33m(\u001b[0m\u001b[0musers_by_job_number\u001b[0m\u001b[1;33m)\u001b[0m  \u001b[1;31m# ValueError: DataFrame constructor not properly called!\u001b[0m\u001b[1;33m\u001b[0m\u001b[0m\n\u001b[0m\u001b[0;32m      4\u001b[0m \u001b[1;33m\u001b[0m\u001b[0m\n\u001b[0;32m      5\u001b[0m \u001b[0mprint\u001b[0m\u001b[1;33m(\u001b[0m\u001b[0mx\u001b[0m\u001b[1;33m.\u001b[0m\u001b[0mto_string\u001b[0m\u001b[1;33m(\u001b[0m\u001b[0mheader\u001b[0m\u001b[1;33m=\u001b[0m\u001b[1;32mNone\u001b[0m\u001b[1;33m,\u001b[0m \u001b[0mindex\u001b[0m\u001b[1;33m=\u001b[0m\u001b[1;32mNone\u001b[0m\u001b[1;33m)\u001b[0m\u001b[1;33m)\u001b[0m\u001b[1;33m\u001b[0m\u001b[0m\n",
      "\u001b[1;32m~\\Anaconda2\\envs\\py36\\lib\\site-packages\\pandas\\core\\frame.py\u001b[0m in \u001b[0;36m__init__\u001b[1;34m(self, data, index, columns, dtype, copy)\u001b[0m\n\u001b[0;32m    402\u001b[0m                                          dtype=values.dtype, copy=False)\n\u001b[0;32m    403\u001b[0m             \u001b[1;32melse\u001b[0m\u001b[1;33m:\u001b[0m\u001b[1;33m\u001b[0m\u001b[0m\n\u001b[1;32m--> 404\u001b[1;33m                 \u001b[1;32mraise\u001b[0m \u001b[0mValueError\u001b[0m\u001b[1;33m(\u001b[0m\u001b[1;34m'DataFrame constructor not properly called!'\u001b[0m\u001b[1;33m)\u001b[0m\u001b[1;33m\u001b[0m\u001b[0m\n\u001b[0m\u001b[0;32m    405\u001b[0m \u001b[1;33m\u001b[0m\u001b[0m\n\u001b[0;32m    406\u001b[0m         \u001b[0mNDFrame\u001b[0m\u001b[1;33m.\u001b[0m\u001b[0m__init__\u001b[0m\u001b[1;33m(\u001b[0m\u001b[0mself\u001b[0m\u001b[1;33m,\u001b[0m \u001b[0mmgr\u001b[0m\u001b[1;33m,\u001b[0m \u001b[0mfastpath\u001b[0m\u001b[1;33m=\u001b[0m\u001b[1;32mTrue\u001b[0m\u001b[1;33m)\u001b[0m\u001b[1;33m\u001b[0m\u001b[0m\n",
      "\u001b[1;31mValueError\u001b[0m: DataFrame constructor not properly called!"
     ]
    }
   ],
   "source": [
    "# ^^^ IT'S MISSING ALL THE INDEX VALUES FOR THE LISTS.\n",
    "\n",
    "x = pd.DataFrame(users_by_job_number)  # ValueError: DataFrame constructor not properly called!\n",
    "\n",
    "print(x.to_string(header=None, index=None))"
   ]
  },
  {
   "cell_type": "code",
   "execution_count": null,
   "metadata": {
    "collapsed": true
   },
   "outputs": [],
   "source": [
    "# As last resort, convert to list if can't figure out how object structure\n",
    "# of SeriesGroupBy\n",
    "users_by_job_number_SHORT = list(users_by_job_number)  \n",
    "type(users_by_job_number_SHORT)  # list\n",
    "users_by_job_number_SHORT[:5]\n",
    "\n",
    "# users_by_job_number = pd.Series(users_by_job_number_SHORT)   # taking long time\n",
    "# users_by_job_number = pd.DataFrame(users_by_job_number)  # taking long time"
   ]
  },
  {
   "cell_type": "code",
   "execution_count": null,
   "metadata": {
    "collapsed": true
   },
   "outputs": [],
   "source": []
  },
  {
   "cell_type": "code",
   "execution_count": null,
   "metadata": {
    "collapsed": true
   },
   "outputs": [],
   "source": []
  },
  {
   "cell_type": "code",
   "execution_count": 65,
   "metadata": {
    "collapsed": true
   },
   "outputs": [
    {
     "name": "stdout",
     "output_type": "stream",
     "text": [
      "i : 0 \n",
      "j : ((130207, 'u468'), 1135622    u468\n",
      "Name: owner, dtype: object)\n",
      "i : 1 \n",
      "j : ((130254, 'u468'), 1135684    u468\n",
      "Name: owner, dtype: object)\n",
      "i : 2 \n",
      "j : ((130362, 'u468'), 1135918    u468\n",
      "Name: owner, dtype: object)\n",
      "i : 3 \n",
      "j : ((130454, 'u468'), 1135641    u468\n",
      "Name: owner, dtype: object)\n",
      "i : 4 \n",
      "j : ((2946857, 'u49'), 4696      u49\n",
      "8908      u49\n",
      "9494      u49\n",
      "10372     u49\n",
      "11048     u49\n",
      "12613     u49\n",
      "22427     u49\n",
      "24999     u49\n",
      "29856     u49\n",
      "29871     u49\n",
      "41455     u49\n",
      "42068     u49\n",
      "46821     u49\n",
      "47045     u49\n",
      "48097     u49\n",
      "50461     u49\n",
      "53510     u49\n",
      "57404     u49\n",
      "59820     u49\n",
      "61092     u49\n",
      "61248     u49\n",
      "75935     u49\n",
      "87112     u49\n",
      "93150     u49\n",
      "110248    u49\n",
      "Name: owner, dtype: object)\n"
     ]
    }
   ],
   "source": [
    "for i,j in enumerate(users_by_job_number):\n",
    "    if i < 5:   # during development just process first few elements\n",
    "        print('i :', i, '\\nj :', j)  \n",
    "                    # i : 0 \n",
    "                    # j : ((130207, 'u468'), 1135622    u468\n",
    "                    # Name: owner, dtype: object)\n",
    "                    # i : 1 \n",
    "                    # j : ((130254, 'u468'), 1135684    u468\n",
    "                    # Name: owner, dtype: object)\n",
    "                    # i : 2 \n",
    "                    # j : ((130362, 'u468'), 1135918    u468\n",
    "                    # Name: owner, dtype: object)\n",
    "                    # i : 3 \n",
    "                    # j : ((130454, 'u468'), 1135641    u468\n",
    "                    # Name: owner, dtype: object)\n",
    "                    # i : 4 \n",
    "                    # j : ((2946857, 'u49'), 4696      u49\n",
    "                    # 8908      u49\n",
    "                    # 9494      u49\n",
    "                    # 10372     u49\n",
    "                    # 11048     u49\n",
    "                    # 12613     u49\n",
    "                    # 22427     u49\n",
    "                    # 24999     u49\n",
    "                    # 29856     u49\n",
    "                    # 29871     u49\n",
    "                    # 41455     u49\n",
    "                    # 42068     u49\n",
    "                    # 46821     u49\n",
    "                    # 47045     u49\n",
    "                    # 48097     u49\n",
    "                    # 50461     u49\n",
    "                    # 53510     u49\n",
    "                    # 57404     u49\n",
    "                    # 59820     u49\n",
    "                    # 61092     u49\n",
    "                    # 61248     u49\n",
    "                    # 75935     u49\n",
    "                    # 87112     u49\n",
    "                    # 93150     u49\n",
    "                    # 110248    u49\n",
    "                    # Name: owner, dtype: object)\n",
    "            \n",
    "#         for k,l in enumerate(j):  # iterate over 1 or more items in j\n",
    "#             # first item, j[k] when k = 0, is always a tuple with 2 elements\n",
    "#             if k == 0:\n",
    "#                 # print\n",
    "#                 print('job', j[k][0], ': user', j[k][1])\n",
    "#                 print('k ==', k, ' : \"j[k]\"', j[k])\n",
    "#                 print('k ==', k, ' : \"l[k]\"', l[k])\n",
    "#                 print('k ==', k, ' : \"l\":', l)\n",
    "                \n",
    "#             # any further items are always in a Series with 2 elements per line\n",
    "#             for k in range(1, len(j)):\n",
    "#                 # print each\n",
    "#                 print('k ==', k, ' : \"j[k]\"', j[k])\n",
    "#                 print('k ==', k, ' : \"l[k]\"', l[k])\n",
    "#                 print('k ==', k, ' : \"l\":', l)\n",
    "#                 print('k ==', k, \"l['1135622'].index\", l['1135622'].index)\n",
    "#                 print('k ==', k, 'job', j[k].index[0][0])\n",
    "#                 print('k ==', k, ': user', j[k].index[0][1])\n",
    "            \n",
    "\n",
    "#         print(j[1])\n",
    "#         print(type(j))     # tuple\n",
    "#         print(type(j[0]))  # tuple\n",
    "#         print(type(j[1]))  # pandas.core.series.Series\n",
    "        \n",
    "#         print(j[1].index[0])"
   ]
  },
  {
   "cell_type": "markdown",
   "metadata": {},
   "source": [
    "**(3) For each group, list the number of users, and list each groups' users (i.e. the users having the same “group” field). **\n",
    "\n",
    "For example: group 1 (4 users): user2, user32, user41, user56"
   ]
  },
  {
   "cell_type": "code",
   "execution_count": null,
   "metadata": {
    "collapsed": true
   },
   "outputs": [],
   "source": [
    "# define LIST to hold (group,user) TUPLES, e.g., [(g1,u1),(g1,u49),(g2,u33),...]\n",
    "group_users = []\n",
    "\n",
    "# remove unneeded cols in df\n",
    "df2 = df[['group', 'owner']]\n",
    "\n",
    "# create LIST of all **unique** group-user TUPLES (weed out duplicates)\n",
    "for index, row in df2.iterrows():\n",
    "    # check that tuple doesn't already exist in the list\n",
    "    if not (row['group'], row['owner']) in group_users:  \n",
    "        group_users.append((row['group'], row['owner']))\n",
    "\n",
    "# print(len(group_users), sorted(group_users))"
   ]
  },
  {
   "cell_type": "markdown",
   "metadata": {},
   "source": [
    "```700 [('g1', 'u1'), ('g1', 'u145'), ('g10', 'u101'), ('g10', 'u11'), ('g10', 'u493'), ('g10', 'u535'), ('g10', 'u692'), ('g100', 'u252'), ('g101', 'u260'), ('g101', 'u547'), ('g102', 'u261'), ('g103', 'u263'), ('g104', 'u265'), ('g104', 'u335'), ('g104', 'u396'), ('g104', 'u438'), ('g104', 'u531'), ('g105', 'u266'), ('g105', 'u484'), ('g106', 'u267'), ('g106', 'u691'), ('g106', 'u696'), ('g107', 'u271'), ('g107', 'u300'), ('g108', 'u283'), ('g109', 'u286'), ('g109', 'u478'), ('g109', 'u491'), ('g11', 'u12'), ('g11', 'u52'), ('g110', 'u287'), ('g110', 'u502'), ('g111', 'u292'), ('g111', 'u327'), ('g112', 'u293'), ('g113', 'u294'), ('g114', 'u295'), . . . ]```"
   ]
  },
  {
   "cell_type": "code",
   "execution_count": null,
   "metadata": {
    "collapsed": true
   },
   "outputs": [],
   "source": [
    "# create dict where k:v is group#:[all_users], e.g.:\n",
    "# {'g1': ['u1', 'u145'], 'g2': ['u2', 'u77', 'u154', 'u187', 'u210', 'u274', \n",
    "# 'u276', 'u285', 'u367', 'u420', 'u468'], 'g3': ['u3',...}\n",
    "\n",
    "d = {}\n",
    "\n",
    "for t in group_users:  # t = group-user tuple, e.g., (1, 3)\n",
    "    if not t[0] in d.keys():       # key is NOT in dict ...\n",
    "        d.update({t[0]: []})           # (empty list 1st bc otherwise lists chars of str)\n",
    "        d[t[0]].append(str(t[1]))  # ... so add it with value.\n",
    "    elif not t[1] in d[t[0]]:      # key IS in dict but t[1] is not in value list ...\n",
    "        d[t[0]].append(str(t[1]))  # ... so append it to value list.\n",
    "\n",
    "# print(d)"
   ]
  },
  {
   "cell_type": "markdown",
   "metadata": {},
   "source": [
    "```{'g1': ['u1', 'u145'], 'g2': ['u2', 'u77', 'u154', 'u187', 'u210', 'u274', 'u276', 'u285', 'u367', 'u420', 'u468', 'u476', 'u580', 'u633', 'u646', 'u659'], 'g3': ['u3', 'u626'], 'g4': ['u4', 'u15', 'u33', 'u53', 'u59', 'u62', 'u69', 'u99', 'u417'], 'g5': ['u5', 'u23', 'u47', 'u149', 'u336', 'u664'], 'g6': ['u6', 'u7', 'u48', 'u84', 'u87', 'u103', 'u164', 'u182', 'u200', 'u217', 'u218', 'u230', 'u243', 'u254', 'u255', 'u257', 'u323', 'u362', 'u409', 'u422', 'u432', 'u436', 'u503', 'u539', 'u559', 'u563', 'u589', 'u590', 'u597', 'u600', 'u614', 'u638', 'u657', 'u666', 'u675', 'u689'], 'g7': ['u8', 'u14', . . . 'g203': ['u698']}```"
   ]
  },
  {
   "cell_type": "code",
   "execution_count": null,
   "metadata": {
    "collapsed": true
   },
   "outputs": [],
   "source": [
    "# Print: example: group 1 (4 users): user2, user32, user41, user56\n",
    "\n",
    "for k,v in d.items():\n",
    "    if len(v) == 1:  # use singular \"user\"\n",
    "        print('group ', k[1:], ' (', len(v), ' user): ', ', '.join(v), sep = '')\n",
    "    else:            # plural \"users\"\n",
    "        print('group ', k[1:], ' (', len(v), ' users): ', ', '.join(v), sep = '')"
   ]
  },
  {
   "cell_type": "code",
   "execution_count": null,
   "metadata": {
    "collapsed": true
   },
   "outputs": [],
   "source": []
  },
  {
   "cell_type": "markdown",
   "metadata": {
    "collapsed": true
   },
   "source": [
    "```group 1 (2 users): u1, u145\n",
    "group 2 (16 users): u2, u77, u154, u187, u210, u274, u276, u285, u367, u420, u468, u476, u580, u633, u646, u659\n",
    "group 3 (2 users): u3, u626\n",
    "group 4 (9 users): u4, u15, u33, u53, u59, u62, u69, u99, u417\n",
    "group 5 (6 users): u5, u23, u47, u149, u336, u664\n",
    "group 6 (36 users): u6, u7, u48, u84, u87, u103, u164, u182, u200, u217, u218, u230, u243, u254, u255, u257, u323, u362, u409, u422, u432, u436, u503, u539, u559, u563, u589, u590, u597, u600, u614, u638, u657, u666, u675, u689\n",
    "group 7 (70 users): u8, u14, u16, u20, u36, u39, u44, u49, u54, u70, u96, u107, u132, u138, u143, u146, u152, u158, u160, u186, u190, u191, u194, u195, u232, u250, u251, u258, u270, u301, u303, u320, u334, u341, u356, u357, u361, u364, u381, u383, u384, u388, u413, u455, u459, u460, u475, u487, u490, u516, u533, u556, u558, u592, u605, u619, u621, u623, u627, u637, u648, u651, u654, u665, u672, u673, u676, u679, u693, u699\n",
    "group 8 (5 users): u9, u450, u519, u582, u618\n",
    "group 9 (17 users): u10, u93, u104, u131, u133, u389, u390, u391, u479, u480, u482, u514, u593, u653, u660, u661, u686\n",
    "group 10 (5 users): u11, u101, u493, u535, u692\n",
    "group 11 (2 users): u12, u52\n",
    "group 12 (11 users): u13, u19, u192, u240, u346, u354, u392, u529, u578, u584, u669\n",
    "group 13 (3 users): u17, u67, u281\n",
    "group 14 (5 users): u18, u42, u106, u123, u554\n",
    "group 15 (2 users): u21, u448\n",
    "group 16 (2 users): u22, u284\n",
    "group 17 (12 users): u24, u66, u118, u177, u238, u272, u371, u395, u431, u481, u494, u613\n",
    "group 18 (8 users): u25, u27, u40, u41, u428, u492, u505, u678\n",
    "group 19 (3 users): u26, u326, u419\n",
    "group 20 (4 users): u28, u242, u348, u414\n",
    "group 21 (7 users): u29, u56, u82, u280, u430, u464, u687\n",
    "group 22 (9 users): u30, u57, u162, u179, u291, u342, u585, u588, u697\n",
    "group 23 (2 users): u31, u151\n",
    "group 24 (46 users): u32, u60, u86, u97, u108, u109, u111, u112, u121, u134, u141, u157, u202, u231, u233, u237, u239, u249, u253, u264, u268, u269, u275, u307, u309, u315, u319, u332, u333, u360, u366, u440, u461, u520, u534, u549, u586, u603, u462, u631, u632, u635, u668, u671, u674, u690\n",
    "group 25 (8 users): u34, u71, u127, u290, u403, u483, u485, u684\n",
    "group 26 (3 users): u35, u222, u358\n",
    "group 27 (2 users): u37, u581\n",
    "group 28 (3 users): u38, u51, u205\n",
    "group 29 (5 users): u43, u163, u214, u441, u528\n",
    "group 30 (2 users): u45, u387\n",
    "group 31 (9 users): u46, u58, u63, u116, u130, u209, u211, u246, u344\n",
    "group 32 (5 users): u50, u273, u298, u474, u541\n",
    "group 33 (2 users): u55, u288\n",
    "group 34 (13 users): u61, u114, u126, u144, u282, u297, u379, u452, u510, u511, u532, u601, u607\n",
    "group 35 (7 users): u64, u119, u122, u148, u337, u415, u544\n",
    "group 36 (2 users): u65, u155\n",
    "group 37 (6 users): u68, u74, u139, u234, u247, u599\n",
    "group 38 (1 user): u72\n",
    "group 39 (3 users): u73, u153, u650\n",
    "group 40 (3 users): u75, u256, u466\n",
    "group 41 (1 user): u76\n",
    "group 42 (3 users): u78, u180, u685\n",
    "group 43 (4 users): u79, u221, u411, u465\n",
    "group 44 (5 users): u80, u159, u248, u369, u630\n",
    "group 45 (2 users): u81, u219\n",
    "group 46 (12 users): u83, u136, u165, u168, u174, u393, u454, u497, u508, u522, u566, u655\n",
    "group 47 (1 user): u85\n",
    "group 48 (2 users): u88, u351\n",
    "group 49 (1 user): u89\n",
    "group 50 (5 users): u90, u110, u331, u496, u553\n",
    "group 51 (4 users): u91, u166, u628, u688\n",
    "group 52 (9 users): u92, u117, u188, u212, u262, u378, u488, u501, u645\n",
    "group 53 (5 users): u94, u178, u227, u279, u680\n",
    "group 54 (1 user): u95\n",
    "group 55 (3 users): u98, u429, u571\n",
    "group 56 (3 users): u100, u615, u652\n",
    "group 57 (9 users): u102, u184, u216, u244, u278, u458, u512, u521, u524\n",
    "group 58 (1 user): u105\n",
    "group 59 (2 users): u113, u394\n",
    "group 60 (4 users): u115, u135, u161, u604\n",
    "group 61 (2 users): u120, u469\n",
    "group 62 (1 user): u124\n",
    "group 63 (6 users): u125, u137, u172, u203, u228, u507\n",
    "group 64 (4 users): u128, u353, u382, u513\n",
    "group 65 (2 users): u129, u641\n",
    "group 66 (3 users): u140, u506, u616\n",
    "group 67 (1 user): u142\n",
    "group 68 (4 users): u147, u372, u446, u451\n",
    "group 69 (3 users): u150, u156, u486\n",
    "group 70 (1 user): u167\n",
    "group 71 (3 users): u169, u339, u340\n",
    "group 72 (6 users): u170, u259, u277, u435, u463, u602\n",
    "group 73 (1 user): u171\n",
    "group 74 (1 user): u173\n",
    "group 75 (3 users): u175, u206, u608\n",
    "group 76 (3 users): u176, u610, u611\n",
    "group 77 (8 users): u181, u321, u397, u398, u399, u400, u401, u402\n",
    "group 78 (4 users): u183, u355, u425, u426\n",
    "group 79 (3 users): u185, u385, u517\n",
    "group 80 (1 user): u189\n",
    "group 81 (3 users): u193, u418, u537\n",
    "group 82 (1 user): u196\n",
    "group 83 (2 users): u197, u408\n",
    "group 84 (4 users): u198, u365, u579, u609\n",
    "group 85 (3 users): u199, u515, u695\n",
    "group 86 (1 user): u201\n",
    "group 87 (2 users): u204, u359\n",
    "group 88 (4 users): u207, u289, u587, u594\n",
    "group 89 (6 users): u208, u245, u410, u427, u629, u670\n",
    "group 90 (1 user): u213\n",
    "group 91 (1 user): u215\n",
    "group 92 (2 users): u220, u617\n",
    "group 93 (1 user): u223\n",
    "group 94 (3 users): u224, u406, u551\n",
    "group 95 (1 user): u225\n",
    "group 96 (1 user): u226\n",
    "group 97 (3 users): u229, u373, u622\n",
    "group 98 (2 users): u235, u236\n",
    "group 99 (5 users): u241, u421, u498, u538, u639\n",
    "group 100 (1 user): u252\n",
    "group 101 (2 users): u260, u547\n",
    "group 102 (1 user): u261\n",
    "group 103 (1 user): u263\n",
    "group 104 (5 users): u265, u335, u396, u438, u531\n",
    "group 105 (2 users): u266, u484\n",
    "group 106 (3 users): u267, u691, u696\n",
    "group 107 (2 users): u271, u300\n",
    "group 108 (1 user): u283\n",
    "group 109 (3 users): u286, u478, u491\n",
    "group 110 (2 users): u287, u502\n",
    "group 111 (2 users): u292, u327\n",
    "group 112 (1 user): u293\n",
    "group 113 (1 user): u294\n",
    "group 114 (1 user): u295\n",
    "group 115 (1 user): u296\n",
    "group 116 (1 user): u299\n",
    "group 117 (2 users): u302, u380\n",
    "group 118 (2 users): u304, u312\n",
    "group 119 (4 users): u305, u509, u525, u527\n",
    "group 120 (6 users): u306, u316, u317, u322, u328, u570\n",
    "group 121 (8 users): u308, u329, u330, u347, u462, u567, u574, u595\n",
    "group 122 (1 user): u310\n",
    "group 123 (1 user): u311\n",
    "group 124 (1 user): u313\n",
    "group 125 (1 user): u314\n",
    "group 126 (2 users): u318, u443\n",
    "group 127 (1 user): u324\n",
    "group 128 (1 user): u325\n",
    "group 129 (2 users): u338, u518\n",
    "group 130 (1 user): u343\n",
    "group 131 (2 users): u345, u471\n",
    "group 132 (2 users): u349, u376\n",
    "group 133 (1 user): u350\n",
    "group 134 (3 users): u352, u467, u470\n",
    "group 135 (1 user): u363\n",
    "group 136 (4 users): u368, u550, u612, u643\n",
    "group 137 (1 user): u370\n",
    "group 138 (2 users): u374, u548\n",
    "group 139 (1 user): u375\n",
    "group 140 (1 user): u377\n",
    "group 141 (1 user): u386\n",
    "group 142 (1 user): u404\n",
    "group 143 (1 user): u405\n",
    "group 144 (1 user): u407\n",
    "group 145 (1 user): u412\n",
    "group 146 (1 user): u416\n",
    "group 147 (2 users): u423, u530\n",
    "group 148 (1 user): u424\n",
    "group 149 (1 user): u433\n",
    "group 150 (1 user): u434\n",
    "group 151 (1 user): u437\n",
    "group 152 (1 user): u439\n",
    "group 153 (1 user): u442\n",
    "group 154 (1 user): u444\n",
    "group 155 (4 users): u445, u489, u495, u644\n",
    "group 156 (2 users): u447, u681\n",
    "group 157 (1 user): u449\n",
    "group 158 (1 user): u453\n",
    "group 159 (2 users): u456, u591\n",
    "group 160 (1 user): u457\n",
    "group 161 (1 user): u472\n",
    "group 162 (1 user): u473\n",
    "group 163 (1 user): u477\n",
    "group 164 (3 users): u499, u540, u577\n",
    "group 165 (4 users): u500, u543, u598, u649\n",
    "group 166 (1 user): u504\n",
    "group 167 (1 user): u523\n",
    "group 168 (2 users): u526, u625\n",
    "group 169 (1 user): u536\n",
    "group 170 (1 user): u542\n",
    "group 171 (1 user): u545\n",
    "group 172 (1 user): u546\n",
    "group 173 (1 user): u552\n",
    "group 174 (1 user): u555\n",
    "group 175 (1 user): u557\n",
    "group 176 (1 user): u560\n",
    "group 177 (1 user): u561\n",
    "group 178 (1 user): u562\n",
    "group 179 (1 user): u564\n",
    "group 180 (1 user): u565\n",
    "group 181 (1 user): u568\n",
    "group 182 (2 users): u569, u642\n",
    "group 183 (1 user): u572\n",
    "group 184 (1 user): u573\n",
    "group 185 (2 users): u575, u694\n",
    "group 186 (1 user): u576\n",
    "group 187 (1 user): u583\n",
    "group 188 (1 user): u596\n",
    "group 189 (1 user): u606\n",
    "group 190 (1 user): u620\n",
    "group 191 (1 user): u624\n",
    "group 192 (1 user): u634\n",
    "group 193 (1 user): u636\n",
    "group 194 (1 user): u640\n",
    "group 195 (2 users): u647, u656\n",
    "group 196 (1 user): u658\n",
    "group 197 (1 user): u662\n",
    "group 198 (1 user): u663\n",
    "group 199 (1 user): u667\n",
    "group 200 (1 user): u677\n",
    "group 201 (1 user): u682\n",
    "group 202 (1 user): u683\n",
    "group 203 (1 user): u698```"
   ]
  },
  {
   "cell_type": "markdown",
   "metadata": {},
   "source": [
    "### Assignment 1-2\n",
    "Compute the CPU-hours, defined as (h\\_rt)*(slots), used by each group by generating a diagram similar to the following.\n",
    "\n",
    "Sort the results in decreasing order. Your plot should look like the following in which the labels of the vertical axis are the names of the groups and the labels of the horizontal axis are the CPU-hour values:"
   ]
  },
  {
   "cell_type": "code",
   "execution_count": null,
   "metadata": {
    "collapsed": true
   },
   "outputs": [],
   "source": [
    "df['cpu_hours_by_group'] = df.h_rt * df.slots\n",
    "# df.head(2)"
   ]
  },
  {
   "cell_type": "code",
   "execution_count": null,
   "metadata": {
    "collapsed": true
   },
   "outputs": [],
   "source": [
    "grouped = df.groupby(['group'])['cpu_hours_by_group'].sum()\n",
    "type(grouped)"
   ]
  },
  {
   "cell_type": "code",
   "execution_count": null,
   "metadata": {
    "collapsed": true
   },
   "outputs": [],
   "source": [
    "grouped  # g1  2.377116e+06, g10 3.301120e+06, . . ."
   ]
  },
  {
   "cell_type": "code",
   "execution_count": null,
   "metadata": {
    "collapsed": true
   },
   "outputs": [],
   "source": [
    "grouped = pd.DataFrame(grouped)\n",
    "type(grouped)"
   ]
  },
  {
   "cell_type": "code",
   "execution_count": null,
   "metadata": {
    "collapsed": true
   },
   "outputs": [],
   "source": [
    "round(grouped, 0)"
   ]
  },
  {
   "cell_type": "code",
   "execution_count": null,
   "metadata": {
    "collapsed": true
   },
   "outputs": [],
   "source": [
    "# sort grouped df on values in cpu_hours_by_group column \n",
    "grouped = grouped.sort_values('cpu_hours_by_group', ascending = False)\n",
    "# grouped  #g4 4.406948e+08, g9 3.747326e+07, ..."
   ]
  },
  {
   "cell_type": "code",
   "execution_count": null,
   "metadata": {
    "collapsed": true
   },
   "outputs": [],
   "source": [
    "grouped.columns"
   ]
  },
  {
   "cell_type": "code",
   "execution_count": null,
   "metadata": {
    "collapsed": true
   },
   "outputs": [],
   "source": [
    "# # plot \"grouped\" df\n",
    "\n",
    "# fig, ax = plt.subplots()\n",
    "# # fig = plt.figure(figsize=(8,6))\n",
    "# width, height = 8, 26\n",
    "# plt.figure(figsize=(width, height), dpi=80)  # it's not plotting big enough\n",
    "\n",
    "# # %pylab inline\n",
    "# # pylab.rcParams['figure.figsize'] = (10, 6)  # width x height in inches\n",
    "# # plt.tight_layout()\n",
    "\n",
    "# # # Settings for y tick labels\n",
    "# # fontdict = {'fontsize': rcParams['axes.titlesize'],  # make smaller\n",
    "# #         'fontweight': rcParams['axes.titleweight'],  # make lighter\n",
    "# #         'verticalalignment': 'baseline',\n",
    "# #         'horizontalalignment': loc}\n",
    "# # # validating functions are defined and associated with rc parameters in\n",
    "# # # :mod:`matplotlib.rcsetup`\n",
    "\n",
    "# ax.barh(grouped.index, \n",
    "#         grouped.cpu_hours_by_group, \n",
    "#         color='green', \n",
    "#         ecolor='black')\n",
    "# # ax.set_yticks(grouped.y_pos)\n",
    "# ax.set_yticklabels(grouped.index)\n",
    "# ax.invert_yaxis()  # labels read top-to-bottom\n",
    "# ax.set_xlabel('CPU-hours')\n",
    "# ax.set_ylabel('Group label')\n",
    "# ax.set_title('CPU-hours by group')\n",
    "\n",
    "# # # plot it on a log scale\n",
    "\n",
    "# plt.xscale('log')\n",
    "\n",
    "# # # plt.subplot(222)\n",
    "# # plt.semilogx(t, np.sin(2*np.pi*t))\n",
    "# # # plt.title('semilogx')\n",
    "# # # plt.grid(True)\n",
    "\n",
    "# plt.show()"
   ]
  },
  {
   "cell_type": "code",
   "execution_count": null,
   "metadata": {
    "collapsed": true
   },
   "outputs": [],
   "source": [
    "# # Create a new figure of size 8x6 points (width x height), using 80 dots per inch\n",
    "# # Creates a WxH ratio that constrains itself in Jupyter\n",
    "# plt.figure(figsize=(8,46), dpi=80)  \n",
    "\n",
    "# # Create a new subplot from a grid of 1x1\n",
    "# plt.subplot(111)  # subplot grid parameter encoded as a single integer. \n",
    "#                   # Alternative form is subplot(1, 1, 1).\n",
    "#                   # \"111\" means \"1x1 grid, first subplot\" and \n",
    "#                   # \"234\" means \"2x3 grid, 4th subplot\".\n",
    "\n",
    "# x = grouped.cpu_hours_by_group\n",
    "# y = grouped.index\n",
    "\n",
    "# # Plot x,y using blue color with a continuous line of width 1 (pixels)\n",
    "# plt.plot(x, y, color=\"blue\", linewidth=1.0, linestyle=\"-\")\n",
    "\n",
    "# # Set x limits\n",
    "# min = 0\n",
    "# max = int(round(max(grouped.cpu_hours_by_group) * 1.02))  # TypeError: 'int' object is not callable\n",
    "# plt.xlim(min, max)\n",
    "\n",
    "# # Set x ticks\n",
    "# plt.xticks(np.linspace(min, max, 10, endpoint=True))\n",
    "\n",
    "# # Set y limits\n",
    "# min = 0\n",
    "# max = len(grouped.index)\n",
    "# plt.ylim(min, max)\n",
    "\n",
    "# # Set y ticks\n",
    "# plt.yticks(np.linspace(min, max + 1, max + 1, endpoint=True))\n",
    "\n",
    "# # Save figure using 72 dots per inch\n",
    "# # savefig(\"cpu_hrs_by_grp.png\", dpi=72)\n",
    "\n",
    "# # Show result on screen\n",
    "# plt.show()"
   ]
  },
  {
   "cell_type": "code",
   "execution_count": null,
   "metadata": {
    "collapsed": true
   },
   "outputs": [],
   "source": [
    "# LATEST\n",
    "\n",
    "# need to learn pyplot interface\n",
    "\n",
    "# Create a new figure of size 8x6 points (width x height), using 80 dots per inch\n",
    "# Creates a WxH ratio that constrains itself in Jupyter\n",
    "plt.figure(figsize=(8,46), dpi=80)  \n",
    "\n",
    "# Create a new subplot from a grid of 1x1\n",
    "plt.subplot(111)  # subplot grid parameter encoded as a single integer. \n",
    "                  # Alternative form is subplot(1, 1, 1).\n",
    "                  # \"111\" means \"1x1 grid, first subplot\" and \n",
    "                  # \"234\" means \"2x3 grid, 4th subplot\".\n",
    "\n",
    "x = grouped.cpu_hours_by_group\n",
    "y = grouped.index\n",
    "\n",
    "plt.barh(y, x, color='green', ecolor='black')\n",
    "# ax.set_yticks(grouped.y_pos)\n",
    "plt.set_yticklabels(grouped.index, fontsize=8)  # AttributeError: module 'matplotlib.pyplot' \n",
    "                                    # has no attribute 'set_yticklabels'\n",
    "plt.invert_yaxis()  # labels read top-to-bottom\n",
    "plt.set_xlabel('CPU-hours')\n",
    "plt.set_ylabel('Group label')\n",
    "plt.set_title('CPU-hours by group')\n",
    "\n",
    "# Set x limits\n",
    "min = 0\n",
    "max = int(round(max(grouped.cpu_hours_by_group) * 1.02))  # TypeError: 'int' object is not callable\n",
    "plt.xlim(min, max)\n",
    "\n",
    "# Set x ticks\n",
    "plt.xticks(np.linspace(min, max, 10, endpoint=True))\n",
    "\n",
    "# Set y limits\n",
    "min = 0\n",
    "max = len(grouped.index)\n",
    "plt.ylim(min, max)\n",
    "\n",
    "# Set y ticks\n",
    "plt.yticks(np.linspace(min, max + 1, max + 1, endpoint=True))\n",
    "\n",
    "# Save figure using 72 dots per inch\n",
    "# savefig(\"cpu_hrs_by_grp.png\", dpi=72)\n",
    "\n",
    "# Show result on screen\n",
    "plt.show()"
   ]
  },
  {
   "cell_type": "code",
   "execution_count": null,
   "metadata": {
    "collapsed": true
   },
   "outputs": [],
   "source": []
  },
  {
   "cell_type": "code",
   "execution_count": null,
   "metadata": {
    "collapsed": true
   },
   "outputs": [],
   "source": []
  },
  {
   "cell_type": "markdown",
   "metadata": {},
   "source": [
    "### Assignment 1-3\n",
    "Compute the total number of jobs corresponding to each “slot” number by generating a plot like the following one.\n",
    "\n",
    "Note that the number of jobs corresponding to “slot=1” is much larger so we will not display it in order to avoid distorting the results. At the end, you should get a diagram similar to the following one:"
   ]
  },
  {
   "cell_type": "code",
   "execution_count": null,
   "metadata": {
    "collapsed": true
   },
   "outputs": [],
   "source": [
    "# add column to count number of jobs per row (always 1)\n",
    "\n",
    "df['jobs_by_slot'] = 1"
   ]
  },
  {
   "cell_type": "markdown",
   "metadata": {},
   "source": [
    "The \"slot\" column is the slot label (1, 2, 3, etc.). This is different from the \"slots\" column above, which is XXX."
   ]
  },
  {
   "cell_type": "code",
   "execution_count": null,
   "metadata": {
    "collapsed": true
   },
   "outputs": [],
   "source": [
    "df.groupby(['slot'])['jobs_by_slot'].sum() == df.groupby(['slot'])['slots'].sum()"
   ]
  },
  {
   "cell_type": "code",
   "execution_count": null,
   "metadata": {
    "collapsed": true
   },
   "outputs": [],
   "source": [
    "# created a new df \"grouped\" that groups by slot field and sums jobs_by_slot\n",
    "grouped = df.groupby(['slot'])['jobs_by_slot'].sum()\n",
    "grouped = pd.DataFrame(grouped)\n",
    "grouped.drop([1])  # drop row named 1 (not row at index 1)"
   ]
  },
  {
   "cell_type": "code",
   "execution_count": null,
   "metadata": {
    "collapsed": true
   },
   "outputs": [],
   "source": []
  },
  {
   "cell_type": "code",
   "execution_count": null,
   "metadata": {
    "collapsed": true
   },
   "outputs": [],
   "source": [
    "grouped.index"
   ]
  },
  {
   "cell_type": "code",
   "execution_count": null,
   "metadata": {
    "collapsed": true
   },
   "outputs": [],
   "source": [
    "# plot from \"grouped\" df\n",
    "\n",
    "fig, ax = plt.subplots()\n",
    "# fig = plt.figure(figsize=(8,6))\n",
    "width, height = 8, 26\n",
    "plt.figure(figsize=(width, height))  # it's not plotting big enough\n",
    "\n",
    "ax.barh(grouped.index, grouped.jobs_by_slot, \n",
    "        color='green', ecolor='black')\n",
    "# ax.set_yticks(grouped.y_pos)\n",
    "ax.set_yticklabels(grouped.index)\n",
    "ax.invert_yaxis()  # labels read top-to-bottom\n",
    "ax.set_ylabel('Slot labels')\n",
    "ax.set_xlabel('Number of jobs')\n",
    "ax.set_title('Jobs by slot')\n",
    "\n",
    "plt.show()"
   ]
  },
  {
   "cell_type": "markdown",
   "metadata": {},
   "source": [
    "**Iteration vs. vectorization**  \n",
    "Post on iterative processes vs. vectorized processes:\n",
    "\n",
    "https://stackoverflow.com/questions/54028199/for-loops-with-pandas-when-should-i-care/54028200#54028200"
   ]
  },
  {
   "cell_type": "markdown",
   "metadata": {
    "collapsed": true
   },
   "source": [
    "# STUFF"
   ]
  },
  {
   "cell_type": "code",
   "execution_count": null,
   "metadata": {
    "collapsed": true
   },
   "outputs": [],
   "source": [
    "# # In an earlier version of the code the following was true. Now it is not:\n",
    "# # I didn't need to create df_jobs_by_group. As proof:\n",
    "# all(df_jobs_by_user.groupby(['group'])['group'].size() == \n",
    "#     df_jobs_by_group.groupby(['group'])['group'].size())   # True\n",
    "\n",
    "# # df_jobs_by_user would have worked also.\n",
    "\n",
    "# # I think this is because user and group are related and user is LESS CONSTRAINED\n",
    "# # (there are more users than groups).\n",
    "\n",
    "# # I don't think it would have worked if I had created df_jobs_by_group\n",
    "# # first and then tried to use it for jobs by user. Reason: All jobs related to all\n",
    "# # groups still appear in the longer (699) jobs by user list, but not all jobs related to all\n",
    "# # users appear in the shorter (203) jobs by group list.\n",
    "\n",
    "# # As a test of this hypothesis:\n",
    "\n",
    "# df_jobs_by_group.groupby(['owner'])['owner'].size()\n",
    "\n",
    "# all(df_jobs_by_user.groupby(['owner'])['owner'].size() == \n",
    "#     df_jobs_by_group.groupby(['owner'])['owner'].size())\n",
    "\n",
    "# # Hmm, this is also True. Ah, the df is not 203 and 699 rows. It is the len of\n",
    "# # the number of job numbers, 184 thousand some. Still, this shows I didn't need\n",
    "# # to create a new df just for the jobs by group analysis."
   ]
  },
  {
   "cell_type": "code",
   "execution_count": null,
   "metadata": {
    "collapsed": true
   },
   "outputs": [],
   "source": []
  },
  {
   "cell_type": "code",
   "execution_count": null,
   "metadata": {
    "collapsed": true
   },
   "outputs": [],
   "source": [
    "# # Add a 'num_of_jobs' col to the df to capture these values.\n",
    "# df_jobs_by_user.loc[:,('num_of_jobs')] = (df_jobs_by_user\n",
    "#                                           .groupby(['owner'])['owner'].size())  # FINALLY!\n",
    "\n",
    "# df_jobs_by_user  # producing NaNs :("
   ]
  },
  {
   "cell_type": "code",
   "execution_count": null,
   "metadata": {
    "collapsed": true
   },
   "outputs": [],
   "source": []
  },
  {
   "cell_type": "code",
   "execution_count": null,
   "metadata": {
    "collapsed": true
   },
   "outputs": [],
   "source": [
    "# # In an earlier version of the code the following was true. Now it is not:\n",
    "# # I didn't need to create df_jobs_by_group. As proof:\n",
    "# all(df_jobs_by_user.groupby(['group'])['group'].size() == \n",
    "#     df_jobs_by_group.groupby(['group'])['group'].size())   # True\n",
    "\n",
    "# # df_jobs_by_user would have worked also.\n",
    "\n",
    "# # I think this is because user and group are related and user is LESS CONSTRAINED\n",
    "# # (there are more users than groups).\n",
    "\n",
    "# # I don't think it would have worked if I had created df_jobs_by_group\n",
    "# # first and then tried to use it for jobs by user. Reason: All jobs related to all\n",
    "# # groups still appear in the longer (699) jobs by user list, but not all jobs related to all\n",
    "# # users appear in the shorter (203) jobs by group list.\n",
    "\n",
    "# # As a test of this hypothesis:\n",
    "\n",
    "# df_jobs_by_group.groupby(['owner'])['owner'].size()\n",
    "\n",
    "# all(df_jobs_by_user.groupby(['owner'])['owner'].size() == \n",
    "#     df_jobs_by_group.groupby(['owner'])['owner'].size())\n",
    "\n",
    "# # Hmm, this is also True. Ah, the df is not 203 and 699 rows. It is the len of\n",
    "# # the number of job numbers, 184 thousand some. Still, this shows I didn't need\n",
    "# # to create a new df just for the jobs by group analysis."
   ]
  },
  {
   "cell_type": "code",
   "execution_count": null,
   "metadata": {
    "collapsed": true
   },
   "outputs": [],
   "source": [
    "# # sum of 3rd column is num of rows in orig df\n",
    "# print(users_by_job_number.count().sum())  # 4468061\n",
    "# print()\n",
    "\n",
    "# # Returns user, uniq job numbers, and number of rows in which each uniq job number appears\n",
    "# # So the len of output is 184688 (num of uniq job nums) and \n",
    "\n",
    "# print(users_by_job_number.count())  # job_number  owner\n",
    "#                                     # 130207      u468        1\n",
    "#                                     # 130254      u468        1\n",
    "#                                     # 130362      u468        1\n",
    "#                                     # 130454      u468        1\n",
    "#                                     # 2946857     u49        25\n",
    "#                                     # 3339208     u417        2 ...\n",
    "#                                     # 3413360     u31       740\n",
    "#                                     # 3586518     u45        80\n",
    "#                                     # 3611822     u417        2\n",
    "#                                     # 3639910     u31      1028\n",
    "#                                     # Name: owner, Length: 184687, dtype: int64"
   ]
  },
  {
   "cell_type": "code",
   "execution_count": null,
   "metadata": {
    "collapsed": true
   },
   "outputs": [],
   "source": [
    "# job_numbers_by_user = df.groupby(['owner','job_number'])['job_number']"
   ]
  },
  {
   "cell_type": "code",
   "execution_count": null,
   "metadata": {
    "collapsed": true
   },
   "outputs": [],
   "source": [
    "# # Returns user (owner), uniq job numbers, and number of rows in which each job number appears\n",
    "# # So the len of output is 184687 (num of uniq job nums) \n",
    "\n",
    "# print(job_numbers_by_user.count())  # owner  job_number\n",
    "# #                                     # u1     3912841       1645\n",
    "# #                                     #        3912842       3000  ...\n",
    "# #                                     # Name: job_number, Length: 184687, dtype: int64"
   ]
  },
  {
   "cell_type": "code",
   "execution_count": null,
   "metadata": {
    "collapsed": true
   },
   "outputs": [],
   "source": [
    "# df.groupby(['owner','job_number'])['job_number'].count()  # same as above"
   ]
  },
  {
   "cell_type": "code",
   "execution_count": null,
   "metadata": {
    "collapsed": true
   },
   "outputs": [],
   "source": [
    "# # different method, same result\n",
    "\n",
    "# df.groupby(['owner', 'job_number']).size()  # owner  job_number\n",
    "#                                             # u1     3912841       1645\n",
    "#                                             #        3912842       3000 ...\n",
    "#                                             # Length: 184687, dtype: int64"
   ]
  },
  {
   "cell_type": "code",
   "execution_count": null,
   "metadata": {
    "collapsed": true
   },
   "outputs": [],
   "source": [
    "# all(df.groupby(['owner', 'job_number']).size() == \n",
    "#     df.groupby(['owner','job_number'])['job_number'].count())  # True"
   ]
  },
  {
   "cell_type": "code",
   "execution_count": null,
   "metadata": {
    "collapsed": true
   },
   "outputs": [],
   "source": [
    "# # sum of 3rd column above is 4468060 (num of rows in df)\n",
    "# print(job_numbers_by_user.count().sum())  # 4468060"
   ]
  },
  {
   "cell_type": "code",
   "execution_count": null,
   "metadata": {
    "collapsed": true
   },
   "outputs": [],
   "source": [
    "# # ngroup : Number each group from 0 to the number of groups - 1.\n",
    "\n",
    "# # This is the enumerative complement of cumcount. Note that the numbers given \n",
    "# # to the groups match the order in which the groups would be seen when iterating \n",
    "# # over the groupby object, not the order they are first observed.\n",
    "\n",
    "# # But what does it tell us ??? \n",
    "\n",
    "# # Since cumcount numbers the rows in each group, the \"enumerative complement\"\n",
    "# # must be the index of the row at which each group is first observed. ???\n",
    "\n",
    "# print(job_numbers_by_user.ngroup())   # 0               0\n",
    "# #                                     # 1           64629  <-- 1 less than w full df\n",
    "# #                                     # 2               0\n",
    "# #                                     # 3           92437  <-- 1 less than w full df\n",
    "# #                                     # 4           92437  <-- 1 less than w full df\n",
    "# #                                     # ...\n",
    "# #                                     # Length: 4468060, dtype: int64"
   ]
  },
  {
   "cell_type": "code",
   "execution_count": null,
   "metadata": {
    "collapsed": true
   },
   "outputs": [],
   "source": [
    "# # nunique returns len uniq job_number\n",
    "\n",
    "# print(job_numbers_by_user.nunique())    # owner  job_number\n",
    "# #                                         # u1     3912841       1\n",
    "# #                                         #        3912842       1 ...\n",
    "# #                                         # Name: job_number, Length: 184688, dtype: int64"
   ]
  },
  {
   "cell_type": "code",
   "execution_count": null,
   "metadata": {
    "collapsed": true
   },
   "outputs": [],
   "source": [
    "# job_numbers_by_user.nunique().sum()  # 184687"
   ]
  },
  {
   "cell_type": "markdown",
   "metadata": {},
   "source": [
    "Ways to count by keys"
   ]
  },
  {
   "cell_type": "code",
   "execution_count": null,
   "metadata": {
    "collapsed": true
   },
   "outputs": [],
   "source": [
    "# # df.groupby('key1')['key2'].apply(lambda x: x[x == 'one'].count())\n",
    "\n",
    "# # Option 1\n",
    "\n",
    "# df.set_index('key1').key2.eq('one').sum(level=0).astype(int).reset_index()\n",
    "\n",
    "# #   key1  key2\n",
    "# # 0    a     2\n",
    "# # 1    b     1\n",
    "# # 2    c     0\n",
    "\n",
    "# # Option 2\n",
    "\n",
    "# df.key2.eq('one').groupby(df.key1).sum().astype(int).reset_index()\n",
    "\n",
    "# #   key1  key2\n",
    "# # 0    a     2\n",
    "# # 1    b     1\n",
    "# # 2    c     0\n",
    "\n",
    "# # Option 3\n",
    "\n",
    "# f, u = df.key1.factorize()\n",
    "# pd.DataFrame(dict(key1=u, key2=np.bincount(f, df.key2.eq('one')).astype(int)))\n",
    "\n",
    "# #   key1  key2\n",
    "# # 0    a     2\n",
    "# # 1    b     1\n",
    "# # 2    c     0\n",
    "\n",
    "# # Option 4\n",
    "\n",
    "# pd.crosstab(df.key1, df.key2.eq('one'))[True].rename('key2').reset_index()\n",
    "\n",
    "# #   key1  key2\n",
    "# # 0    a     2\n",
    "# # 1    b     1\n",
    "# # 2    c     0\n",
    "\n",
    "# # Option 5\n",
    "\n",
    "# pd.get_dummies(df.key1).mul(df.key2.eq('one'), 0).sum().rename_axis('key1').reset_index(name='key2')\n",
    "\n",
    "# #   key1  key2\n",
    "# # 0    a     2\n",
    "# # 1    b     1\n",
    "# # 2    c     0"
   ]
  },
  {
   "cell_type": "code",
   "execution_count": null,
   "metadata": {
    "collapsed": true
   },
   "outputs": [],
   "source": [
    "# df.groupby(['owner', 'job_number'])['job_number'] == '2946857'"
   ]
  },
  {
   "cell_type": "code",
   "execution_count": null,
   "metadata": {
    "collapsed": true
   },
   "outputs": [],
   "source": [
    "# # ngroup returns len df\n",
    "\n",
    "# # print(users_by_job_number.ngroup()) # 0               0\n",
    "# # #                                     # 1           64630\n",
    "# # #                                     # 2               0\n",
    "# # #                                     # 3           92438\n",
    "# # #                                     # 4           92438 ...\n",
    "# # #                                     # Length: 4468061, dtype: int64  \n",
    "                    \n",
    "# df.groupby(['job_number', 'owner'])['owner'].ngroup()\n",
    "\n",
    "# # What changed? Now it outputs:\n",
    "#                                         # 0          657   \n",
    "#                                         # 1          571   \n",
    "#                                         # 2          657   \n",
    "#                                         # 3          596   \n",
    "#                                         # 4          596 "
   ]
  },
  {
   "cell_type": "code",
   "execution_count": null,
   "metadata": {
    "collapsed": true
   },
   "outputs": [],
   "source": [
    "# # nunique returns len uniq job_number\n",
    "\n",
    "# print(users_by_job_number.nunique())    # job_number  owner\n",
    "#                                         # 130207      u468     1\n",
    "#                                         # 130254      u468     1 ...\n",
    "#                                         # Name: job_number, Length: 184687, dtype: int64"
   ]
  },
  {
   "cell_type": "code",
   "execution_count": null,
   "metadata": {
    "collapsed": true
   },
   "outputs": [],
   "source": [
    "# jobs_by_user = []\n",
    "\n",
    "# for u in users:\n",
    "# #     print(u, \": \", len(df[(df['owner'] == u)]), sep = '')\n",
    "#     jobs_by_user.append(str(u\n",
    "#                             + \": \" \n",
    "#                             + str(len(df[(df['owner'] == u)]))))\n",
    "# for i in jobs_by_user:\n",
    "#     print(i)                # This is based on each row being a unique job, which we now know is not the case:\n",
    "#                             # u1: 99019\n",
    "#                             # u2: 1050597\n",
    "#                             # u3: 347511"
   ]
  },
  {
   "cell_type": "markdown",
   "metadata": {},
   "source": [
    "This is based on each row being a unique job, which we now know is not the case:\n",
    "\n",
    "```\n",
    "u1: 99019\n",
    "u2: 1050597\n",
    "u3: 347511\n",
    "u4: 16679\n",
    "u5: 909\n",
    "u6: 356\n",
    "u7: 878\n",
    "u8: 499\n",
    "u9: 429\n",
    "u10: 8762\n",
    "u11: 38295\n",
    "u12: 2780\n",
    "u13: 1412\n",
    "u14: 12413\n",
    "u15: 66580\n",
    "u16: 4992\n",
    "u17: 38\n",
    "u18: 439203\n",
    "u19: 858\n",
    "u20: 7082\n",
    "u21: 555\n",
    "u22: 44245\n",
    "u23: 2264\n",
    "u24: 42\n",
    "u25: 2051\n",
    "u26: 73\n",
    "u27: 2115\n",
    "u28: 858\n",
    "u29: 385\n",
    "u30: 324\n",
    "u31: 1768\n",
    "u32: 296\n",
    "u33: 130\n",
    "u34: 143\n",
    "u35: 422\n",
    "u36: 3166\n",
    "u37: 44\n",
    "u38: 1501\n",
    "u39: 16007\n",
    "u40: 2242\n",
    "u41: 1384\n",
    "u42: 530\n",
    "u43: 73\n",
    "u44: 48\n",
    "u45: 2075\n",
    "u46: 107\n",
    "u47: 144\n",
    "u48: 266\n",
    "u49: 25\n",
    "u50: 15\n",
    "u51: 237\n",
    "u52: 345\n",
    "u53: 5348\n",
    "u54: 609\n",
    "u55: 74\n",
    "u56: 50\n",
    "u57: 496\n",
    "u58: 37\n",
    "u59: 2559\n",
    "u60: 1194\n",
    "u61: 116\n",
    "u62: 1751\n",
    "u63: 370\n",
    "u64: 16464\n",
    "u65: 235\n",
    "u66: 72\n",
    "u67: 180\n",
    "u68: 24\n",
    "u69: 1895\n",
    "u70: 1167\n",
    "u71: 39\n",
    "u72: 320\n",
    "u73: 889\n",
    "u74: 6863\n",
    "u75: 32535\n",
    "u76: 95\n",
    "u77: 2054\n",
    "u78: 127\n",
    "u79: 50\n",
    "u80: 520\n",
    "u81: 550\n",
    "u82: 225\n",
    "u83: 30\n",
    "u84: 52\n",
    "u85: 24\n",
    "u86: 435\n",
    "u87: 289\n",
    "u88: 531\n",
    "u89: 540\n",
    "u90: 3135\n",
    "u91: 4854\n",
    "u92: 52\n",
    "u93: 79\n",
    "u94: 11366\n",
    "u95: 223\n",
    "u96: 54\n",
    "u97: 9\n",
    "u98: 26\n",
    "u99: 42\n",
    "u100: 11\n",
    "u101: 11689\n",
    "u102: 96\n",
    "u103: 788\n",
    "u104: 52\n",
    "u105: 90\n",
    "u106: 2225\n",
    "u107: 18581\n",
    "u108: 5\n",
    "u109: 44\n",
    "u110: 790\n",
    "u111: 1249\n",
    "u112: 8908\n",
    "u113: 30\n",
    "u114: 394\n",
    "u115: 54\n",
    "u116: 33\n",
    "u117: 69\n",
    "u118: 2115\n",
    "u119: 51429\n",
    "u120: 256\n",
    "u121: 1269\n",
    "u122: 673\n",
    "u123: 71\n",
    "u124: 1451\n",
    "u125: 37\n",
    "u126: 94\n",
    "u127: 9158\n",
    "u128: 47\n",
    "u129: 4\n",
    "u130: 310\n",
    "u131: 119\n",
    "u132: 25143\n",
    "u133: 125\n",
    "u134: 105\n",
    "u135: 70\n",
    "u136: 25\n",
    "u137: 72\n",
    "u138: 16232\n",
    "u139: 385\n",
    "u140: 49\n",
    "u141: 96\n",
    "u142: 20\n",
    "u143: 4933\n",
    "u144: 35\n",
    "u145: 2\n",
    "u146: 1834\n",
    "u147: 16\n",
    "u148: 1536\n",
    "u149: 102\n",
    "u150: 1352\n",
    "u151: 498\n",
    "u152: 514\n",
    "u153: 13\n",
    "u154: 762\n",
    "u155: 75\n",
    "u156: 1914\n",
    "u157: 27\n",
    "u158: 8545\n",
    "u159: 1737\n",
    "u160: 94\n",
    "u161: 1\n",
    "u162: 1398\n",
    "u163: 285\n",
    "u164: 570\n",
    "u165: 796\n",
    "u166: 24003\n",
    "u167: 61\n",
    "u168: 2\n",
    "u169: 6123\n",
    "u170: 138\n",
    "u171: 31\n",
    "u172: 50\n",
    "u173: 78\n",
    "u174: 111\n",
    "u175: 4\n",
    "u176: 42\n",
    "u177: 51\n",
    "u178: 2823\n",
    "u179: 15\n",
    "u180: 207\n",
    "u181: 598\n",
    "u182: 162\n",
    "u183: 5\n",
    "u184: 760\n",
    "u185: 10\n",
    "u186: 11\n",
    "u187: 34\n",
    "u188: 74\n",
    "u189: 188\n",
    "u190: 1198\n",
    "u191: 1288\n",
    "u192: 12\n",
    "u193: 241\n",
    "u194: 44555\n",
    "u195: 8614\n",
    "u196: 143\n",
    "u197: 25\n",
    "u198: 158\n",
    "u199: 280\n",
    "u200: 1569\n",
    "u201: 161\n",
    "u202: 634\n",
    "u203: 6\n",
    "u204: 6\n",
    "u205: 9\n",
    "u206: 9\n",
    "u207: 2\n",
    "u208: 5\n",
    "u209: 68\n",
    "u210: 5\n",
    "u211: 6\n",
    "u212: 1\n",
    "u213: 2125\n",
    "u214: 20\n",
    "u215: 5\n",
    "u216: 33\n",
    "u217: 12\n",
    "u218: 55\n",
    "u219: 1150\n",
    "u220: 142\n",
    "u221: 31\n",
    "u222: 62\n",
    "u223: 170\n",
    "u224: 2173\n",
    "u225: 4\n",
    "u226: 620\n",
    "u227: 586\n",
    "u228: 69\n",
    "u229: 130\n",
    "u230: 847\n",
    "u231: 11\n",
    "u232: 1071\n",
    "u233: 103\n",
    "u234: 9\n",
    "u235: 27\n",
    "u236: 38\n",
    "u237: 90\n",
    "u238: 10\n",
    "u239: 191\n",
    "u240: 40\n",
    "u241: 12\n",
    "u242: 49\n",
    "u243: 398\n",
    "u244: 180\n",
    "u245: 20\n",
    "u246: 73\n",
    "u247: 81\n",
    "u248: 109\n",
    "u249: 79\n",
    "u250: 1350135\n",
    "u251: 14\n",
    "u252: 15021\n",
    "u253: 78\n",
    "u254: 154\n",
    "u255: 202\n",
    "u256: 6\n",
    "u257: 158\n",
    "u258: 5406\n",
    "u259: 877\n",
    "u260: 117\n",
    "u261: 6\n",
    "u262: 144\n",
    "u263: 99\n",
    "u264: 160\n",
    "u265: 11\n",
    "u266: 77\n",
    "u267: 152\n",
    "u268: 43\n",
    "u269: 2\n",
    "u270: 1517\n",
    "u271: 13\n",
    "u272: 200\n",
    "u273: 71\n",
    "u274: 56\n",
    "u275: 8\n",
    "u276: 261\n",
    "u277: 2\n",
    "u278: 11\n",
    "u279: 1303\n",
    "u280: 762\n",
    "u281: 8\n",
    "u282: 156\n",
    "u283: 25\n",
    "u284: 20\n",
    "u285: 62\n",
    "u286: 5\n",
    "u287: 20\n",
    "u288: 3\n",
    "u289: 43\n",
    "u290: 5208\n",
    "u291: 4\n",
    "u292: 26\n",
    "u293: 6\n",
    "u294: 10\n",
    "u295: 12\n",
    "u296: 7\n",
    "u297: 85\n",
    "u298: 178\n",
    "u299: 2\n",
    "u300: 12\n",
    "u301: 9725\n",
    "u302: 328\n",
    "u303: 5\n",
    "u304: 11\n",
    "u305: 57\n",
    "u306: 11\n",
    "u307: 12\n",
    "u308: 5\n",
    "u309: 13\n",
    "u310: 2\n",
    "u311: 7\n",
    "u312: 5\n",
    "u313: 3\n",
    "u314: 7\n",
    "u315: 4\n",
    "u316: 4\n",
    "u317: 4\n",
    "u318: 2\n",
    "u319: 9\n",
    "u320: 186056\n",
    "u321: 2\n",
    "u322: 6\n",
    "u323: 137\n",
    "u324: 22\n",
    "u325: 7\n",
    "u326: 53\n",
    "u327: 3\n",
    "u328: 10\n",
    "u329: 7\n",
    "u330: 12\n",
    "u331: 2\n",
    "u332: 1103\n",
    "u333: 88\n",
    "u334: 59\n",
    "u335: 5\n",
    "u336: 330\n",
    "u337: 8\n",
    "u338: 17\n",
    "u339: 8\n",
    "u340: 1\n",
    "u341: 6\n",
    "u342: 130\n",
    "u343: 10\n",
    "u344: 82\n",
    "u345: 15\n",
    "u346: 234\n",
    "u347: 41\n",
    "u348: 3\n",
    "u349: 1\n",
    "u350: 4\n",
    "u351: 366\n",
    "u352: 1\n",
    "u353: 4\n",
    "u354: 79\n",
    "u355: 111\n",
    "u356: 41\n",
    "u357: 571\n",
    "u358: 578\n",
    "u359: 9\n",
    "u360: 46\n",
    "u361: 27\n",
    "u362: 10\n",
    "u363: 1\n",
    "u364: 17556\n",
    "u365: 326\n",
    "u366: 8\n",
    "u367: 2\n",
    "u368: 24\n",
    "u369: 21\n",
    "u370: 571\n",
    "u371: 50\n",
    "u372: 3\n",
    "u373: 7\n",
    "u374: 4683\n",
    "u375: 14\n",
    "u376: 18\n",
    "u377: 18\n",
    "u378: 3239\n",
    "u379: 90\n",
    "u380: 18\n",
    "u381: 261\n",
    "u382: 683\n",
    "u383: 247\n",
    "u384: 7\n",
    "u385: 42\n",
    "u386: 161\n",
    "u387: 36\n",
    "u388: 1\n",
    "u389: 56\n",
    "u390: 708\n",
    "u391: 226\n",
    "u392: 436\n",
    "u393: 49\n",
    "u394: 17\n",
    "u395: 228\n",
    "u396: 31\n",
    "u397: 20\n",
    "u398: 20\n",
    "u399: 20\n",
    "u400: 36\n",
    "u401: 151\n",
    "u402: 32\n",
    "u403: 5\n",
    "u404: 115\n",
    "u405: 21\n",
    "u406: 62\n",
    "u407: 242\n",
    "u408: 600\n",
    "u409: 567\n",
    "u410: 2\n",
    "u411: 9\n",
    "u412: 9\n",
    "u413: 4\n",
    "u414: 16\n",
    "u415: 4\n",
    "u416: 5\n",
    "u417: 58\n",
    "u418: 75\n",
    "u419: 178\n",
    "u420: 5\n",
    "u421: 17\n",
    "u422: 4\n",
    "u423: 1\n",
    "u424: 2\n",
    "u425: 10\n",
    "u426: 11\n",
    "u427: 15\n",
    "u428: 1645\n",
    "u429: 76\n",
    "u430: 23\n",
    "u431: 73\n",
    "u432: 409\n",
    "u433: 1\n",
    "u434: 1\n",
    "u435: 4\n",
    "u436: 1\n",
    "u437: 84\n",
    "u438: 21\n",
    "u439: 2\n",
    "u440: 4290\n",
    "u441: 6\n",
    "u442: 59\n",
    "u443: 1\n",
    "u444: 12\n",
    "u445: 76\n",
    "u446: 20\n",
    "u447: 1\n",
    "u448: 37\n",
    "u449: 1\n",
    "u450: 2071\n",
    "u451: 34\n",
    "u452: 11\n",
    "u453: 52156\n",
    "u454: 2\n",
    "u455: 2489\n",
    "u456: 5\n",
    "u457: 103\n",
    "u458: 75\n",
    "u459: 4151\n",
    "u460: 1\n",
    "u461: 17\n",
    "u462: 29\n",
    "u463: 1600\n",
    "u464: 9\n",
    "u465: 3\n",
    "u466: 4\n",
    "u467: 17\n",
    "u468: 4\n",
    "u469: 5\n",
    "u470: 5\n",
    "u471: 15\n",
    "u472: 4\n",
    "u473: 6\n",
    "u474: 10\n",
    "u475: 376\n",
    "u476: 134\n",
    "u477: 9\n",
    "u478: 1\n",
    "u479: 24\n",
    "u480: 28\n",
    "u481: 8\n",
    "u482: 169\n",
    "u483: 734\n",
    "u484: 5\n",
    "u485: 11\n",
    "u486: 1374\n",
    "u487: 3\n",
    "u488: 18\n",
    "u489: 1605\n",
    "u490: 4\n",
    "u491: 3\n",
    "u492: 56\n",
    "u493: 5248\n",
    "u494: 4\n",
    "u495: 2\n",
    "u496: 714\n",
    "u497: 4\n",
    "u498: 1\n",
    "u499: 172\n",
    "u500: 18\n",
    "u501: 4\n",
    "u502: 505\n",
    "u503: 72\n",
    "u504: 16\n",
    "u505: 51\n",
    "u506: 6\n",
    "u507: 1\n",
    "u508: 38\n",
    "u509: 23\n",
    "u510: 24\n",
    "u511: 36\n",
    "u512: 27\n",
    "u513: 3\n",
    "u514: 71\n",
    "u515: 25\n",
    "u516: 1\n",
    "u517: 16\n",
    "u518: 18\n",
    "u519: 1\n",
    "u520: 96\n",
    "u521: 8\n",
    "u522: 1004\n",
    "u523: 5\n",
    "u524: 38\n",
    "u525: 19\n",
    "u526: 10647\n",
    "u527: 2\n",
    "u528: 1\n",
    "u529: 72\n",
    "u530: 7\n",
    "u531: 2\n",
    "u532: 124\n",
    "u533: 605\n",
    "u534: 113\n",
    "u535: 7909\n",
    "u536: 2\n",
    "u537: 94\n",
    "u538: 1\n",
    "u539: 25\n",
    "u540: 26\n",
    "u541: 21\n",
    "u542: 42\n",
    "u543: 3\n",
    "u544: 1\n",
    "u545: 36\n",
    "u546: 1\n",
    "u547: 19\n",
    "u548: 299\n",
    "u549: 33\n",
    "u550: 59\n",
    "u551: 9\n",
    "u552: 32\n",
    "u553: 1\n",
    "u554: 2\n",
    "u555: 711\n",
    "u556: 22\n",
    "u557: 242\n",
    "u558: 102\n",
    "u559: 8\n",
    "u560: 13\n",
    "u561: 3\n",
    "u562: 1\n",
    "u563: 82\n",
    "u564: 13\n",
    "u565: 3\n",
    "u566: 3\n",
    "u567: 1\n",
    "u568: 8\n",
    "u569: 6\n",
    "u570: 1\n",
    "u571: 616\n",
    "u572: 1\n",
    "u573: 238\n",
    "u574: 5\n",
    "u575: 61\n",
    "u576: 54\n",
    "u577: 1\n",
    "u578: 28\n",
    "u579: 88\n",
    "u580: 932\n",
    "u581: 2\n",
    "u582: 106020\n",
    "u583: 7\n",
    "u584: 54\n",
    "u585: 1\n",
    "u586: 6\n",
    "u587: 11\n",
    "u588: 1\n",
    "u589: 11\n",
    "u590: 43\n",
    "u591: 4\n",
    "u592: 20\n",
    "u593: 21\n",
    "u594: 94\n",
    "u595: 2\n",
    "u596: 1\n",
    "u597: 158\n",
    "u598: 15\n",
    "u599: 2\n",
    "u600: 95\n",
    "u601: 34\n",
    "u602: 2\n",
    "u603: 386\n",
    "u604: 2\n",
    "u605: 3324\n",
    "u606: 2\n",
    "u607: 20\n",
    "u608: 1\n",
    "u609: 12\n",
    "u610: 7\n",
    "u611: 1\n",
    "u612: 1\n",
    "u613: 12\n",
    "u614: 235\n",
    "u615: 2\n",
    "u616: 3\n",
    "u617: 22\n",
    "u618: 1\n",
    "u619: 5\n",
    "u620: 4\n",
    "u621: 1862\n",
    "u622: 7\n",
    "u623: 16\n",
    "u624: 3\n",
    "u625: 3311\n",
    "u626: 1626\n",
    "u627: 27\n",
    "u628: 10011\n",
    "u629: 15\n",
    "u630: 35\n",
    "u631: 1\n",
    "u632: 255\n",
    "u633: 2\n",
    "u634: 5\n",
    "u635: 173\n",
    "u636: 3\n",
    "u637: 163\n",
    "u638: 77\n",
    "u639: 55\n",
    "u640: 16\n",
    "u641: 24\n",
    "u642: 803\n",
    "u643: 4\n",
    "u644: 89\n",
    "u645: 15\n",
    "u646: 4\n",
    "u647: 3\n",
    "u648: 3\n",
    "u649: 9\n",
    "u650: 2\n",
    "u651: 200\n",
    "u652: 11\n",
    "u653: 96\n",
    "u654: 47\n",
    "u655: 8\n",
    "u656: 7\n",
    "u657: 345\n",
    "u658: 2\n",
    "u659: 2\n",
    "u660: 2\n",
    "u661: 5\n",
    "u662: 958\n",
    "u663: 3\n",
    "u664: 15\n",
    "u665: 1\n",
    "u666: 7\n",
    "u667: 6\n",
    "u668: 7\n",
    "u669: 12\n",
    "u670: 2\n",
    "u671: 15\n",
    "u672: 101\n",
    "u673: 5\n",
    "u674: 33\n",
    "u675: 108\n",
    "u676: 20\n",
    "u677: 6\n",
    "u678: 1432\n",
    "u679: 1\n",
    "u680: 2\n",
    "u681: 1\n",
    "u682: 195\n",
    "u683: 5\n",
    "u684: 1\n",
    "u685: 3\n",
    "u686: 3\n",
    "u687: 1\n",
    "u688: 42900\n",
    "u689: 12\n",
    "u690: 1\n",
    "u691: 1\n",
    "u692: 1056\n",
    "u693: 808\n",
    "u694: 3\n",
    "u695: 3\n",
    "u696: 15\n",
    "u697: 22\n",
    "u698: 20\n",
    "u699: 1```"
   ]
  },
  {
   "cell_type": "code",
   "execution_count": null,
   "metadata": {
    "collapsed": true
   },
   "outputs": [],
   "source": [
    "# # df[['owner','job_number']]['job_number'] == 3912841  # 0          True \n",
    "# #                                                      # 1          False\n",
    "# #                                                      # 2          True \n",
    "# #                                                      # 3          False\n",
    "            \n",
    "# # len(df[['owner','job_number']]['job_number'] == 3912841)  # 4468061. Counts T&F. I want T only.\n",
    "# # len((df[['owner','job_number']]['job_number'] == 3912841) == True)  # 4468061. ???\n",
    "# # (df[['owner','job_number']]['job_number'] == 3912841).unique()  # array([ True, False])\n",
    "\n",
    "# # WORKS\n",
    "# df[['owner','job_number']]['job_number'].unique()  # array([3912841, 3902779, 3907911, ..., 4112011, 4114770, 4114821], dtype=int64)\n",
    "# len(df[['owner','job_number']]['job_number'].unique())  # 184688. Number of unique job numbers\n"
   ]
  },
  {
   "cell_type": "code",
   "execution_count": null,
   "metadata": {
    "collapsed": true
   },
   "outputs": [],
   "source": [
    "# type(df[['owner','job_number']]['job_number'].unique())  # numpy.ndarray\n",
    "# pd.DataFrame(df[['owner','job_number']]['job_number'].unique())  # \t          0\n",
    "#                                                                  # 0\t3912841\n",
    "#                                                                  # 1\t3902779\n",
    "#                                                                  # 2\t3907911\n",
    "            \n",
    "# df[['owner','job_number']]['job_number'].unique()\n",
    "\n",
    "# df.groupby(['owner','job_number'])['job_number'].size()  # owner  job_number\n",
    "#                                                          # u1     3912841       1645\n",
    "#                                                          #        3912842       3000\n",
    "#                                                          #        3923147       3000\n",
    "# len(df.groupby(['owner','job_number'])['job_number'].size())  # 184688\n",
    "\n",
    "# df.groupby(['owner','job_number'])['job_number'].unique()   # owner  job_number\n",
    "#                                                             # u1     3912841       [3912841]\n",
    "#                                                             #        3912842       [3912842]\n",
    "#                                                             #        3923147       [3923147]            \n",
    "# len(df.groupby(['owner','job_number'])['job_number'].unique())  # 184688\n",
    "\n",
    "# df.groupby(['job_number', 'owner'])['job_number'].unique()  # job_number  owner\n",
    "#                                                             # 130207      u468      [130207]\n",
    "#                                                             # 130254      u468      [130254]\n",
    "#                                                             # 130362      u468      [130362]\n",
    "# len(df.groupby(['job_number', 'owner'])['job_number'].unique())  # 184688\n",
    "\n",
    "# df.groupby(['job_number', 'owner'])['owner'].unique()       # job_number  owner\n",
    "#                                                             # 130207      u468     [u468]\n",
    "#                                                             # 130254      u468     [u468]\n",
    "#                                                             # 130362      u468     [u468]\n",
    "# len(df.groupby(['job_number', 'owner'])['owner'].unique())  # 184688\n",
    "\n",
    "# # (df.groupby(['job_number', 'owner'])\n",
    "# #  [['job_number', 'owner']].unique())  # AttributeError: 'DataFrameGroupBy' object has no attribute 'unique'\n",
    "\n",
    "# # (df.groupby(['owner','job_number'])['job_number']\n",
    "# #  .unique()\n",
    "# #  .size())  # TypeError: 'int' object is not callable"
   ]
  },
  {
   "cell_type": "code",
   "execution_count": null,
   "metadata": {
    "collapsed": true
   },
   "outputs": [],
   "source": [
    "# fix the above to count each uniq job number as 1 \n",
    "# O(n^2)  \n",
    "\n",
    "# groups =      df['group'].unique()\n",
    "# users =       df['owner'].unique()\n",
    "# job_numbers = df['job_number'].unique()\n",
    "# slot =        df['slot'].unique()\n",
    "# slots =       df['slots'].unique()\n",
    "\n",
    "jobs_by_user = []\n",
    "\n",
    "# for u in df['owner'].unique():\n",
    "#     for j in df['job_number'].unique(): \n",
    "# #         print(u, type(u))\n",
    "# #         print(j, type(j))\n",
    "# #         print(len(df[(df['job_number'] == j)]), type(len(df[(df['job_number'] == j)])))\n",
    "# #         print(u, j, len(df[(df['job_number'] == j)]))\n",
    "#         print(\"User:\", u, \" *** Job number:\", j, \" *** on\", len(df[(df['job_number'] == j)]), \"rows\")\n",
    "# #         print(\"User:\", u, \" *** Job number:\", j, \" *** 1 job\")\n",
    "\n",
    "# User: u1  *** Job number: 3912841  *** on 1645 rows\n",
    "# User: u1  *** Job number: 3902779  *** on 19374 rows\n",
    "# User: u1  *** Job number: 3907911  *** on 1770 rows\n",
    "# User: u1  *** Job number: 3913291  *** on 6 rows\n",
    "# User: u1  *** Job number: 3914733  *** on 1 rows\n",
    "# User: u1  *** Job number: 3914732  *** on 1 rows\n",
    "\n",
    "        \n",
    "#         jobs_by_user.append(str(u\n",
    "#                                 + \": \"\n",
    "#                                 + str(len(df[(df['owner'] == u)]))))\n",
    "        \n",
    "#         jobs_by_user.append(str(u + \", job \" + j + \" : \"\n",
    "#                                 + len(df[df['job_number'] == str(j)])))\n",
    "        \n",
    "# for i in jobs_by_user:\n",
    "#     print(i)"
   ]
  },
  {
   "cell_type": "markdown",
   "metadata": {},
   "source": [
    "** Big O notation and `timeit`**  \n",
    "- Calculate Big O notation\n",
    "- Time execution of `for` loop"
   ]
  },
  {
   "cell_type": "code",
   "execution_count": null,
   "metadata": {
    "collapsed": true
   },
   "outputs": [],
   "source": [
    "# # define statement string\n",
    "# # O(N)\n",
    "\n",
    "# # s = \"\"\"\\\n",
    "# # for u in df['owner'].unique():\n",
    "# #     print(u, ': ', len(df[(df['owner'] == u)]), sep = '')\"\"\"\n",
    "\n",
    "\n",
    "# s = \"\"\"\\\n",
    "# jobs_by_user = []\n",
    "# uniq_users = df['owner'].unique()\n",
    "\n",
    "# for u in uniq_users:\n",
    "#     jobs_by_user.append(str(u\n",
    "#                              + \": \" \n",
    "#                              + str(len(df[(df['owner'] == u)]))))\"\"\""
   ]
  },
  {
   "cell_type": "code",
   "execution_count": null,
   "metadata": {
    "collapsed": true
   },
   "outputs": [],
   "source": [
    "# # define setup string\n",
    "# setup = \"\"\"\\\n",
    "# import h5py\n",
    "# import pandas as pd\n",
    "# df = pd.read_hdf('accounting-2018-10-deid.h5', 'table')\"\"\""
   ]
  },
  {
   "cell_type": "markdown",
   "metadata": {},
   "source": [
    "I was getting **`NameError: name 'df' is not defined`** when I ran `timeit`. One solution was to pass 'df'=df to the `timeit` function in the **`globals`** parameter. Another was to use the **`setup`** parameter.\n",
    "\n",
    "`timeit.timeit() vs. timeit.Timer()` ???\n",
    "\n",
    "See details at https://stackoverflow.com/questions/54164497/python-how-to-make-timeit-recognize-defined-inputs/54164538#54164538)."
   ]
  },
  {
   "cell_type": "code",
   "execution_count": null,
   "metadata": {
    "collapsed": true
   },
   "outputs": [],
   "source": [
    "# time_iter_1_1_1 = timeit.timeit(s, \n",
    "#                                 globals={'df': df},\n",
    "#                                 number = 1)\n",
    "# print(time_iter_1_1_1)  # 239.14 sec"
   ]
  },
  {
   "cell_type": "code",
   "execution_count": null,
   "metadata": {
    "collapsed": true
   },
   "outputs": [],
   "source": [
    "# time_iter_1_1_1 = min(timeit.timeit(s, \n",
    "#                                    setup = setup,\n",
    "#                                    number = 2))\n",
    "# #                                     globals = {'d':d, 'df': df, 'group_users': group_users})\n",
    "# #            .repeat(2, 1000))\n",
    "\n",
    "# ERROR:\n",
    "x = \"\"\"---------------------------------------------------------------------------\n",
    "TypeError                                 Traceback (most recent call last)\n",
    "<ipython-input-19-ad4772804674> in <module>()\n",
    "      2 time_iter_1_1_1 = min(timeit.timeit(s, \n",
    "      3                                    setup = setup,\n",
    "----> 4                                    number = 2))\n",
    "      5 #                                     globals = {'d':d, 'df': df, 'group_users': group_users})\n",
    "      6 #            .repeat(2, 1000))\n",
    "\n",
    "TypeError: 'float' object is not iterable\"\"\""
   ]
  },
  {
   "cell_type": "code",
   "execution_count": null,
   "metadata": {
    "collapsed": true
   },
   "outputs": [],
   "source": [
    "# jobs_by_group = []\n",
    "# for g in df['group'].unique():\n",
    "# #     print(g, \": \", len(df[(df['group'] == g)]), sep = '')\n",
    "#     jobs_by_group.append(str(g \n",
    "#                              + \": \" \n",
    "#                              + str(len(df[(df['group'] == g)]))))\n",
    "# for i in jobs_by_group:\n",
    "#     print(i)"
   ]
  },
  {
   "cell_type": "markdown",
   "metadata": {},
   "source": [
    "This may be (is) double/triple/... counting some jobs.\n",
    "```g1: 99021\n",
    "g2: 1054916\n",
    "g3: 349137\n",
    "g4: 95042\n",
    "g5: 3764\n",
    "g6: 9162\n",
    "g7: 1764671\n",
    "g8: 108522\n",
    "g9: 10546\n",
    "g10: 64197\n",
    "g11: 3125\n",
    "g12: 3237\n",
    "g13: 226\n",
    "g14: 442031\n",
    "g15: 592\n",
    "g16: 44265\n",
    "g17: 2865\n",
    "g18: 10976\n",
    "g19: 304\n",
    "g20: 926\n",
    "g21: 1455\n",
    "g22: 2391\n",
    "g23: 2266\n",
    "g24: 21755\n",
    "g25: 15299\n",
    "g26: 1062\n",
    "g27: 46\n",
    "g28: 1747\n",
    "g29: 385\n",
    "g30: 2111\n",
    "g31: 1086\n",
    "g32: 295\n",
    "g33: 77\n",
    "g34: 1219\n",
    "g35: 70115\n",
    "g36: 310\n",
    "g37: 7364\n",
    "g38: 320\n",
    "g39: 904\n",
    "g40: 32545\n",
    "g41: 95\n",
    "g42: 337\n",
    "g43: 93\n",
    "g44: 2422\n",
    "g45: 1700\n",
    "g46: 2072\n",
    "g47: 24\n",
    "g48: 897\n",
    "g49: 540\n",
    "g50: 4642\n",
    "g51: 81768\n",
    "g52: 3616\n",
    "g53: 16080\n",
    "g54: 223\n",
    "g55: 718\n",
    "g56: 24\n",
    "g57: 1228\n",
    "g58: 90\n",
    "g59: 47\n",
    "g60: 127\n",
    "g61: 261\n",
    "g62: 1451\n",
    "g63: 235\n",
    "g64: 737\n",
    "g65: 28\n",
    "g66: 58\n",
    "g67: 20\n",
    "g68: 73\n",
    "g69: 4640\n",
    "g70: 61\n",
    "g71: 6132\n",
    "g72: 2623\n",
    "g73: 31\n",
    "g74: 78\n",
    "g75: 14\n",
    "g76: 50\n",
    "g77: 879\n",
    "g78: 137\n",
    "g79: 68\n",
    "g80: 188\n",
    "g81: 410\n",
    "g82: 143\n",
    "g83: 625\n",
    "g84: 584\n",
    "g85: 308\n",
    "g86: 161\n",
    "g87: 15\n",
    "g88: 150\n",
    "g89: 59\n",
    "g90: 2125\n",
    "g91: 5\n",
    "g92: 164\n",
    "g93: 170\n",
    "g94: 2244\n",
    "g95: 4\n",
    "g96: 620\n",
    "g97: 144\n",
    "g98: 65\n",
    "g99: 86\n",
    "g100: 15021\n",
    "g101: 136\n",
    "g102: 6\n",
    "g103: 99\n",
    "g104: 70\n",
    "g105: 82\n",
    "g106: 168\n",
    "g107: 25\n",
    "g108: 25\n",
    "g109: 9\n",
    "g110: 525\n",
    "g111: 29\n",
    "g112: 6\n",
    "g113: 10\n",
    "g114: 12\n",
    "g115: 7\n",
    "g116: 2\n",
    "g117: 346\n",
    "g118: 16\n",
    "g119: 101\n",
    "g120: 36\n",
    "g121: 92\n",
    "g122: 2\n",
    "g123: 7\n",
    "g124: 3\n",
    "g125: 7\n",
    "g126: 3\n",
    "g127: 22\n",
    "g128: 7\n",
    "g129: 35\n",
    "g130: 10\n",
    "g131: 30\n",
    "g132: 19\n",
    "g133: 4\n",
    "g134: 23\n",
    "g135: 1\n",
    "g136: 88\n",
    "g137: 571\n",
    "g138: 4982\n",
    "g139: 14\n",
    "g140: 18\n",
    "g141: 161\n",
    "g142: 115\n",
    "g143: 21\n",
    "g144: 242\n",
    "g145: 9\n",
    "g146: 5\n",
    "g147: 8\n",
    "g148: 2\n",
    "g149: 1\n",
    "g150: 1\n",
    "g151: 84\n",
    "g152: 2\n",
    "g153: 59\n",
    "g154: 12\n",
    "g155: 1772\n",
    "g156: 2\n",
    "g157: 1\n",
    "g158: 52156\n",
    "g159: 9\n",
    "g160: 103\n",
    "g161: 4\n",
    "g162: 6\n",
    "g163: 9\n",
    "g164: 199\n",
    "g165: 45\n",
    "g166: 16\n",
    "g167: 5\n",
    "g168: 13958\n",
    "g169: 2\n",
    "g170: 42\n",
    "g171: 36\n",
    "g172: 1\n",
    "g173: 32\n",
    "g174: 711\n",
    "g175: 242\n",
    "g176: 13\n",
    "g177: 3\n",
    "g178: 1\n",
    "g179: 13\n",
    "g180: 3\n",
    "g181: 8\n",
    "g182: 809\n",
    "g183: 1\n",
    "g184: 238\n",
    "g185: 64\n",
    "g186: 54\n",
    "g187: 7\n",
    "g188: 1\n",
    "g189: 2\n",
    "g190: 4\n",
    "g191: 3\n",
    "g192: 5\n",
    "g193: 3\n",
    "g194: 16\n",
    "g195: 10\n",
    "g196: 2\n",
    "g197: 958\n",
    "g198: 3\n",
    "g199: 6\n",
    "g200: 6\n",
    "g201: 195\n",
    "g202: 5\n",
    "g203: 20```"
   ]
  },
  {
   "cell_type": "code",
   "execution_count": null,
   "metadata": {
    "collapsed": true
   },
   "outputs": [],
   "source": [
    "# # TODO\n",
    "\n",
    "# # FIX the above to single count each job\n",
    "\n",
    "# # \n",
    "\n",
    "# jobs_by_group = []\n",
    "# for g in df['group'].unique():\n",
    "# #     print(g, \": \", len(df[(df['group'] == g)]), sep = '')\n",
    "#     jobs_by_group.append(str(g \n",
    "#                              + \": \" \n",
    "#                              + str(len(df[(df['group'] == g)]))))\n",
    "# for i in jobs_by_group:\n",
    "#     print(i)"
   ]
  },
  {
   "cell_type": "code",
   "execution_count": null,
   "metadata": {
    "collapsed": true
   },
   "outputs": [],
   "source": []
  },
  {
   "cell_type": "code",
   "execution_count": null,
   "metadata": {
    "collapsed": true
   },
   "outputs": [],
   "source": [
    "# s = \"\"\"\\\n",
    "# jobs_by_group = []\n",
    "# for g in df['group'].unique():\n",
    "#     jobs_by_group.append(str(g \n",
    "#                              + \": \" \n",
    "#                              + str(len(df[(df['group'] == g)]))))\"\"\""
   ]
  },
  {
   "cell_type": "code",
   "execution_count": null,
   "metadata": {
    "collapsed": true
   },
   "outputs": [],
   "source": [
    "# time_iter_1_1_2 = timeit.timeit(s, \n",
    "#                                 globals = {'df': df},\n",
    "#                                 number = 1)\n",
    "\n",
    "# time_iter_1_1_2  # 64.72"
   ]
  }
 ],
 "metadata": {
  "kernelspec": {
   "display_name": "Python 3",
   "language": "python",
   "name": "python3"
  },
  "language_info": {
   "codemirror_mode": {
    "name": "ipython",
    "version": 3
   },
   "file_extension": ".py",
   "mimetype": "text/x-python",
   "name": "python",
   "nbconvert_exporter": "python",
   "pygments_lexer": "ipython3",
   "version": "3.6.4"
  }
 },
 "nbformat": 4,
 "nbformat_minor": 2
}
